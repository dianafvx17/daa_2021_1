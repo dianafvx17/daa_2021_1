{
  "nbformat": 4,
  "nbformat_minor": 0,
  "metadata": {
    "colab": {
      "name": "11Enero.ipynb",
      "provenance": [],
      "authorship_tag": "ABX9TyP3mDplE1t6WL13SKZu82W7",
      "include_colab_link": true
    },
    "kernelspec": {
      "name": "python3",
      "display_name": "Python 3"
    }
  },
  "cells": [
    {
      "cell_type": "markdown",
      "metadata": {
        "id": "view-in-github",
        "colab_type": "text"
      },
      "source": [
        "<a href=\"https://colab.research.google.com/github/dianafvx17/daa_2021_1/blob/master/11Enero.ipynb\" target=\"_parent\"><img src=\"https://colab.research.google.com/assets/colab-badge.svg\" alt=\"Open In Colab\"/></a>"
      ]
    },
    {
      "cell_type": "code",
      "metadata": {
        "id": "U8CWZocn7j4b"
      },
      "source": [
        "class NodoArbol:\r\n",
        "  def __init__(self, value, left=None, rigth=None):\r\n",
        "    self.data=value\r\n",
        "    self.left=left\r\n",
        "    self.rigth=rigth"
      ],
      "execution_count": 2,
      "outputs": []
    },
    {
      "cell_type": "markdown",
      "metadata": {
        "id": "UXAgbFxlEc_J"
      },
      "source": [
        "Arbol 1"
      ]
    },
    {
      "cell_type": "code",
      "metadata": {
        "id": "cEMGDr5w8qgG"
      },
      "source": [
        "arbol=NodoArbol(\"R\", NodoArbol(\"C\"), NodoArbol(\"H\"))"
      ],
      "execution_count": 3,
      "outputs": []
    },
    {
      "cell_type": "code",
      "metadata": {
        "id": "mFQIvMA799F9"
      },
      "source": [
        "nodo1=NodoArbol(\"C\")\r\n",
        "nodo2=NodoArbol(\"H\")\r\n",
        "arbol_v2=NodoArbol(\"R\", nodo1, nodo2)"
      ],
      "execution_count": 5,
      "outputs": []
    },
    {
      "cell_type": "code",
      "metadata": {
        "colab": {
          "base_uri": "https://localhost:8080/"
        },
        "id": "LDJifrv4-YmS",
        "outputId": "97dfaed8-6d7c-4d59-ab83-ea6b61bdb44f"
      },
      "source": [
        "print(arbol.rigth.data)\r\n",
        "print(arbol_v2.rigth.data)"
      ],
      "execution_count": 7,
      "outputs": [
        {
          "output_type": "stream",
          "text": [
            "H\n",
            "H\n"
          ],
          "name": "stdout"
        }
      ]
    },
    {
      "cell_type": "markdown",
      "metadata": {
        "id": "gidbZmSiEaBR"
      },
      "source": [
        "Arbol 2"
      ]
    },
    {
      "cell_type": "code",
      "metadata": {
        "id": "LPKy4prL_Hp5"
      },
      "source": [
        "arbol2=NodoArbol(4,NodoArbol(3,NodoArbol(2,NodoArbol(2))),NodoArbol(5,None,None))\r\n"
      ],
      "execution_count": 8,
      "outputs": []
    },
    {
      "cell_type": "code",
      "metadata": {
        "colab": {
          "base_uri": "https://localhost:8080/"
        },
        "id": "SnkIK98hABeT",
        "outputId": "c5e96a5c-f8a9-4e4e-bc1c-7734a6aa6806"
      },
      "source": [
        "print(arbol2.left.left.left.data)"
      ],
      "execution_count": 10,
      "outputs": [
        {
          "output_type": "stream",
          "text": [
            "2\n"
          ],
          "name": "stdout"
        }
      ]
    },
    {
      "cell_type": "code",
      "metadata": {
        "id": "KumodrFZC5gz"
      },
      "source": [
        "aux=arbol2\r\n",
        "while aux.left !=None:\r\n",
        "  aux=aux.left\r\n",
        "\r\n",
        "print(aux.data)"
      ],
      "execution_count": null,
      "outputs": []
    },
    {
      "cell_type": "markdown",
      "metadata": {
        "id": "5Hv4BI5WEf63"
      },
      "source": [
        "Arbol 3"
      ]
    },
    {
      "cell_type": "code",
      "metadata": {
        "id": "809hI2SDEiEh"
      },
      "source": [
        "arbol3=NodoArbol(\"santi\",None, NodoArbol(\"jesus\", NodoArbol(\"pedro\", None, NodoArbol(\"Diana\")), None))\r\n"
      ],
      "execution_count": 14,
      "outputs": []
    },
    {
      "cell_type": "code",
      "metadata": {
        "colab": {
          "base_uri": "https://localhost:8080/"
        },
        "id": "-z9X9R04GE3Y",
        "outputId": "e16d24b6-e757-40a6-d935-3445c5a18b4e"
      },
      "source": [
        "print(arbol3.rigth.left.rigth.data)"
      ],
      "execution_count": 15,
      "outputs": [
        {
          "output_type": "stream",
          "text": [
            "Diana\n"
          ],
          "name": "stdout"
        }
      ]
    }
  ]
}