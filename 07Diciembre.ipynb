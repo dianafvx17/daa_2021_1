{
  "nbformat": 4,
  "nbformat_minor": 0,
  "metadata": {
    "colab": {
      "name": "07Diciembre.ipynb",
      "provenance": [],
      "authorship_tag": "ABX9TyNPNYiSvuzpZjkYB+S+CDE4",
      "include_colab_link": true
    },
    "kernelspec": {
      "name": "python3",
      "display_name": "Python 3"
    }
  },
  "cells": [
    {
      "cell_type": "markdown",
      "metadata": {
        "id": "view-in-github",
        "colab_type": "text"
      },
      "source": [
        "<a href=\"https://colab.research.google.com/github/dianafvx17/daa_2021_1/blob/master/07Diciembre.ipynb\" target=\"_parent\"><img src=\"https://colab.research.google.com/assets/colab-badge.svg\" alt=\"Open In Colab\"/></a>"
      ]
    },
    {
      "cell_type": "code",
      "metadata": {
        "id": "dSfaB3CF7zl1"
      },
      "source": [
        "def fibonacci(n):\n",
        "  if n==1 or n==0:\n",
        "    return n\n",
        "  else:\n",
        "    return(fibonacci(n-1)+fibonacci(n-2))\n",
        "print(fibonacci(8))"
      ],
      "execution_count": null,
      "outputs": []
    },
    {
      "cell_type": "markdown",
      "metadata": {
        "id": "VwV337bn70Yy"
      },
      "source": [
        "modificacion"
      ]
    },
    {
      "cell_type": "code",
      "metadata": {
        "colab": {
          "base_uri": "https://localhost:8080/"
        },
        "id": "OqmlrrAUuMPg",
        "outputId": "07da1c3b-fc47-45f8-bf70-833d3f98993f"
      },
      "source": [
        "def fibonacci( n ):\n",
        "    print(\"Llamada:\",n)\n",
        "    if  n == 1 or n == 0:\n",
        "        return n\n",
        "    else:\n",
        "        return ( fibonacci(n-1) + fibonacci(n-2) )\n",
        "\n",
        "\n",
        "print(fibonacci(6))"
      ],
      "execution_count": 1,
      "outputs": [
        {
          "output_type": "stream",
          "text": [
            "Llamada: 6\n",
            "Llamada: 5\n",
            "Llamada: 4\n",
            "Llamada: 3\n",
            "Llamada: 2\n",
            "Llamada: 1\n",
            "Llamada: 0\n",
            "Llamada: 1\n",
            "Llamada: 2\n",
            "Llamada: 1\n",
            "Llamada: 0\n",
            "Llamada: 3\n",
            "Llamada: 2\n",
            "Llamada: 1\n",
            "Llamada: 0\n",
            "Llamada: 1\n",
            "Llamada: 4\n",
            "Llamada: 3\n",
            "Llamada: 2\n",
            "Llamada: 1\n",
            "Llamada: 0\n",
            "Llamada: 1\n",
            "Llamada: 2\n",
            "Llamada: 1\n",
            "Llamada: 0\n",
            "8\n"
          ],
          "name": "stdout"
        }
      ]
    },
    {
      "cell_type": "code",
      "metadata": {
        "id": "dKZw43fsxaTv"
      },
      "source": [
        ""
      ],
      "execution_count": null,
      "outputs": []
    }
  ]
}