{
  "nbformat": 4,
  "nbformat_minor": 0,
  "metadata": {
    "colab": {
      "name": "21OctubreTarea.ipynb",
      "provenance": [],
      "authorship_tag": "ABX9TyM4q1e8sDA8WXyDTgjFeOWP",
      "include_colab_link": true
    },
    "kernelspec": {
      "name": "python3",
      "display_name": "Python 3"
    }
  },
  "cells": [
    {
      "cell_type": "markdown",
      "metadata": {
        "id": "view-in-github",
        "colab_type": "text"
      },
      "source": [
        "<a href=\"https://colab.research.google.com/github/dianafvx17/daa_2021_1/blob/master/21OctubreTarea.ipynb\" target=\"_parent\"><img src=\"https://colab.research.google.com/assets/colab-badge.svg\" alt=\"Open In Colab\"/></a>"
      ]
    },
    {
      "cell_type": "markdown",
      "metadata": {
        "id": "5t4Av-11be-A"
      },
      "source": [
        "# Ejemplo 1"
      ]
    },
    {
      "cell_type": "code",
      "metadata": {
        "id": "jLFFuPPvFy9A",
        "outputId": "ec7a7feb-ba45-41a2-b765-56b3e05f39b2",
        "colab": {
          "base_uri": "https://localhost:8080/",
          "height": 187
        }
      },
      "source": [
        "from time import time\n",
        "def ejemplo(n):\n",
        "  start_time = time()\n",
        "  c=n+1\n",
        "  d=c*n\n",
        "  e=n*n\n",
        "  total =c+e-d\n",
        "  elapsed_time = time() - start_time\n",
        "  print(\"Tiempo transcurrido: %0.10f segundos.\" % elapsed_time)\n",
        "  return (total)\n",
        "for entrada in range(100,1100,100):\n",
        "  ejemplo(entrada)"
      ],
      "execution_count": 76,
      "outputs": [
        {
          "output_type": "stream",
          "text": [
            "Tiempo transcurrido: 0.0000009537 segundos.\n",
            "Tiempo transcurrido: 0.0000009537 segundos.\n",
            "Tiempo transcurrido: 0.0000004768 segundos.\n",
            "Tiempo transcurrido: 0.0000004768 segundos.\n",
            "Tiempo transcurrido: 0.0000002384 segundos.\n",
            "Tiempo transcurrido: 0.0000004768 segundos.\n",
            "Tiempo transcurrido: 0.0000002384 segundos.\n",
            "Tiempo transcurrido: 0.0000002384 segundos.\n",
            "Tiempo transcurrido: 0.0000002384 segundos.\n",
            "Tiempo transcurrido: 0.0000007153 segundos.\n"
          ],
          "name": "stdout"
        }
      ]
    },
    {
      "cell_type": "markdown",
      "metadata": {
        "id": "_cp-AwQ5d8s7"
      },
      "source": [
        "# Ejemplo 2"
      ]
    },
    {
      "cell_type": "code",
      "metadata": {
        "id": "aYz4kvHAeBze",
        "outputId": "e906f5ce-4461-489f-aea3-bacd0d50d2d5",
        "colab": {
          "base_uri": "https://localhost:8080/",
          "height": 187
        }
      },
      "source": [
        "from time import time\n",
        "def ejemplo (n):\n",
        "  start_time = time()\n",
        "  contador=0\n",
        "  for i in range (n):\n",
        "    for j in range (n):\n",
        "      contador +=1\n",
        "  elapsed_time = time() - start_time\n",
        "  print(\"Tiempo transcurrido: %0.10f segundos.\" % elapsed_time)\n",
        "  return contador\n",
        "for entrada in range(100,1100,100):\n",
        "  ejemplo(entrada) "
      ],
      "execution_count": 74,
      "outputs": [
        {
          "output_type": "stream",
          "text": [
            "Tiempo transcurrido: 0.0009226799 segundos.\n",
            "Tiempo transcurrido: 0.0022165775 segundos.\n",
            "Tiempo transcurrido: 0.0064904690 segundos.\n",
            "Tiempo transcurrido: 0.0101218224 segundos.\n",
            "Tiempo transcurrido: 0.0134477615 segundos.\n",
            "Tiempo transcurrido: 0.0193657875 segundos.\n",
            "Tiempo transcurrido: 0.0269126892 segundos.\n",
            "Tiempo transcurrido: 0.0346438885 segundos.\n",
            "Tiempo transcurrido: 0.0433547497 segundos.\n",
            "Tiempo transcurrido: 0.0543901920 segundos.\n"
          ],
          "name": "stdout"
        }
      ]
    },
    {
      "cell_type": "markdown",
      "metadata": {
        "id": "FR7V6Xi5j8Qa"
      },
      "source": [
        "# Ejemplo 3"
      ]
    },
    {
      "cell_type": "code",
      "metadata": {
        "id": "42RY5TcakAM-",
        "outputId": "dbda997f-62bc-4917-d87e-098715e24d4a",
        "colab": {
          "base_uri": "https://localhost:8080/",
          "height": 187
        }
      },
      "source": [
        "from time import time\n",
        "def ejemplo(n): \n",
        "  start_time = time()\n",
        "  x=n*2         \n",
        "  y =0          \n",
        "  for m in range (100): \n",
        "    y=x-n  \n",
        "  elapsed_time = time() - start_time\n",
        "  print(\"Tiempo transcurrido: %0.10f segundos.\" % elapsed_time)     \n",
        "  return y      \n",
        "for entrada in range(100,1100,100):\n",
        "  ejemplo(entrada) "
      ],
      "execution_count": 77,
      "outputs": [
        {
          "output_type": "stream",
          "text": [
            "Tiempo transcurrido: 0.0000045300 segundos.\n",
            "Tiempo transcurrido: 0.0000073910 segundos.\n",
            "Tiempo transcurrido: 0.0000092983 segundos.\n",
            "Tiempo transcurrido: 0.0000088215 segundos.\n",
            "Tiempo transcurrido: 0.0000088215 segundos.\n",
            "Tiempo transcurrido: 0.0000090599 segundos.\n",
            "Tiempo transcurrido: 0.0000085831 segundos.\n",
            "Tiempo transcurrido: 0.0000085831 segundos.\n",
            "Tiempo transcurrido: 0.0000088215 segundos.\n",
            "Tiempo transcurrido: 0.0000085831 segundos.\n"
          ],
          "name": "stdout"
        }
      ]
    },
    {
      "cell_type": "markdown",
      "metadata": {
        "id": "sK6P_pb3mQME"
      },
      "source": [
        "#Ejemplo 4"
      ]
    },
    {
      "cell_type": "code",
      "metadata": {
        "id": "aPohaL8VmSWe",
        "outputId": "0041cb23-2f30-4db3-f833-c7f30e1ef94f",
        "colab": {
          "base_uri": "https://localhost:8080/",
          "height": 187
        }
      },
      "source": [
        "from time import time\n",
        "def ejemplo(n):\n",
        "  start_time = time()\n",
        "  x = 3 * 3.1416 + n\n",
        "  y = x + 3 * 3 - n\n",
        "  z = x + y\n",
        "  elapsed_time = time() - start_time\n",
        "  print(\"Tiempo transcurrido: %0.10f segundos.\" % elapsed_time)\n",
        "  return z\n",
        "for entrada in range(100,1100,100):\n",
        "  ejemplo(entrada) "
      ],
      "execution_count": 78,
      "outputs": [
        {
          "output_type": "stream",
          "text": [
            "Tiempo transcurrido: 0.0000011921 segundos.\n",
            "Tiempo transcurrido: 0.0000009537 segundos.\n",
            "Tiempo transcurrido: 0.0000014305 segundos.\n",
            "Tiempo transcurrido: 0.0000002384 segundos.\n",
            "Tiempo transcurrido: 0.0000004768 segundos.\n",
            "Tiempo transcurrido: 0.0000002384 segundos.\n",
            "Tiempo transcurrido: 0.0000004768 segundos.\n",
            "Tiempo transcurrido: 0.0000002384 segundos.\n",
            "Tiempo transcurrido: 0.0000004768 segundos.\n",
            "Tiempo transcurrido: 0.0000004768 segundos.\n"
          ],
          "name": "stdout"
        }
      ]
    },
    {
      "cell_type": "markdown",
      "metadata": {
        "id": "PBSmgiGPo7gR"
      },
      "source": [
        "#Ejemplo 5 "
      ]
    },
    {
      "cell_type": "code",
      "metadata": {
        "id": "1EYl6e7-o7Ef",
        "outputId": "87fa8496-21e2-478a-fb98-f59a141a029b",
        "colab": {
          "base_uri": "https://localhost:8080/",
          "height": 187
        }
      },
      "source": [
        "from time import time\n",
        "def ejemplo(x):\n",
        "  start_time = time()\n",
        "  n = 10\n",
        "  for j in range( 0 , x , 1 ):\n",
        "    n = j + n\n",
        "  elapsed_time = time() - start_time\n",
        "  print(\"Tiempo transcurrido: %0.10f segundos.\" % elapsed_time)\n",
        "  return n\n",
        "for entrada in range(100,1100,100):\n",
        "  ejemplo(entrada) "
      ],
      "execution_count": 79,
      "outputs": [
        {
          "output_type": "stream",
          "text": [
            "Tiempo transcurrido: 0.0000061989 segundos.\n",
            "Tiempo transcurrido: 0.0000166893 segundos.\n",
            "Tiempo transcurrido: 0.0000262260 segundos.\n",
            "Tiempo transcurrido: 0.0000360012 segundos.\n",
            "Tiempo transcurrido: 0.0000455379 segundos.\n",
            "Tiempo transcurrido: 0.0000579357 segundos.\n",
            "Tiempo transcurrido: 0.0000674725 segundos.\n",
            "Tiempo transcurrido: 0.0001018047 segundos.\n",
            "Tiempo transcurrido: 0.0001106262 segundos.\n",
            "Tiempo transcurrido: 0.0000882149 segundos.\n"
          ],
          "name": "stdout"
        }
      ]
    },
    {
      "cell_type": "markdown",
      "metadata": {
        "id": "zJdr6W9fqCyt"
      },
      "source": [
        "#Ejemplo 6"
      ]
    },
    {
      "cell_type": "code",
      "metadata": {
        "id": "QTwUgp9dqFsX",
        "outputId": "163f4906-f620-41f1-fb30-0428a899ccc5",
        "colab": {
          "base_uri": "https://localhost:8080/",
          "height": 187
        }
      },
      "source": [
        "from time import time\n",
        "def ejemplo(n):\n",
        "    start_time = time()\n",
        "    data=[[[1 for x in range(n)] for x in range(n)] \n",
        "          for x in range(n)]\n",
        "    suma = 0\n",
        "    elapsed_time = time() - start_time\n",
        "    print(\"Tiempo transcurrido: %0.10f segundos.\" % elapsed_time)\n",
        "    return suma\n",
        "for entrada in range(100,1100,100):\n",
        "  ejemplo(entrada)"
      ],
      "execution_count": 80,
      "outputs": [
        {
          "output_type": "stream",
          "text": [
            "Tiempo transcurrido: 0.0583074093 segundos.\n",
            "Tiempo transcurrido: 0.5169858932 segundos.\n",
            "Tiempo transcurrido: 1.4690728188 segundos.\n",
            "Tiempo transcurrido: 3.3947865963 segundos.\n",
            "Tiempo transcurrido: 7.0554554462 segundos.\n",
            "Tiempo transcurrido: 19.3458766937 segundos.\n",
            "Tiempo transcurrido: 22.8124551773 segundos.\n",
            "Tiempo transcurrido: 31.5777611732 segundos.\n",
            "Tiempo transcurrido: 46.7123961449 segundos.\n",
            "Tiempo transcurrido: 62.3648893833 segundos.\n"
          ],
          "name": "stdout"
        }
      ]
    }
  ]
}