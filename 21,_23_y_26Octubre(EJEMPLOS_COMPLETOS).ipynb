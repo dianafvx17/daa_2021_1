{
  "nbformat": 4,
  "nbformat_minor": 0,
  "metadata": {
    "colab": {
      "name": "21, 23 y 26Octubre(EJEMPLOS COMPLETOS).ipynb",
      "provenance": [],
      "authorship_tag": "ABX9TyONlxayq7d7Rb7pLxwGNyoM",
      "include_colab_link": true
    },
    "kernelspec": {
      "name": "python3",
      "display_name": "Python 3"
    }
  },
  "cells": [
    {
      "cell_type": "markdown",
      "metadata": {
        "id": "view-in-github",
        "colab_type": "text"
      },
      "source": [
        "<a href=\"https://colab.research.google.com/github/dianafvx17/daa_2021_1/blob/master/21%2C_23_y_26Octubre(EJEMPLOS_COMPLETOS).ipynb\" target=\"_parent\"><img src=\"https://colab.research.google.com/assets/colab-badge.svg\" alt=\"Open In Colab\"/></a>"
      ]
    },
    {
      "cell_type": "code",
      "metadata": {
        "id": "s-0aTHG5ZGnz",
        "outputId": "4261b9ec-f80d-4dae-ecb5-bf2e14ab1fcd",
        "colab": {
          "base_uri": "https://localhost:8080/",
          "height": 34
        }
      },
      "source": [
        "def ejemplo(n):\n",
        "  c=n+1\n",
        "  d=c*n\n",
        "  e=n*n\n",
        "  total =c+e-d\n",
        "  print(f\"total={total}\")\n",
        "ejemplo(99999)"
      ],
      "execution_count": null,
      "outputs": [
        {
          "output_type": "stream",
          "text": [
            "total=1\n"
          ],
          "name": "stdout"
        }
      ]
    },
    {
      "cell_type": "markdown",
      "metadata": {
        "id": "kt18XI8CayDd"
      },
      "source": [
        "*considerando solo las asignaciones*\n",
        "\n",
        "**T(n)= 4**"
      ]
    },
    {
      "cell_type": "code",
      "metadata": {
        "id": "sz8ctfKjaGAx",
        "outputId": "4893d6e8-5737-43b8-fc19-4838e3652cb0",
        "colab": {
          "base_uri": "https://localhost:8080/",
          "height": 34
        }
      },
      "source": [
        "def ejemplo (n):\n",
        "  contador=0\n",
        "  for i in range (n):\n",
        "    for j in range (n):\n",
        "      contador +=1\n",
        "  return contador\n",
        "ejemplo(20)"
      ],
      "execution_count": null,
      "outputs": [
        {
          "output_type": "execute_result",
          "data": {
            "text/plain": [
              "400"
            ]
          },
          "metadata": {
            "tags": []
          },
          "execution_count": 1
        }
      ]
    },
    {
      "cell_type": "markdown",
      "metadata": {
        "id": "qzqlAtqsa3qY"
      },
      "source": [
        "**T(n) =1+n^2**"
      ]
    },
    {
      "cell_type": "markdown",
      "metadata": {
        "id": "J8uhFy-pbkD2"
      },
      "source": [
        "una ecuacion cuadratica (for anidado) ya representa un gran peso de almacenamiento en ram"
      ]
    },
    {
      "cell_type": "code",
      "metadata": {
        "id": "B9nHBBj9bVpr",
        "outputId": "d13eb45e-0809-4664-96e4-88605a7f8cae",
        "colab": {
          "base_uri": "https://localhost:8080/",
          "height": 34
        }
      },
      "source": [
        "def ejemplo(n): #n=4\n",
        "  x=n*2         #x=8\n",
        "  y =0          #y=0\n",
        "  for m in range (100): #cien operaciones\n",
        "    y=x-n       #y = 8 - 4 = 4\n",
        "  return y      #siempre será 4\n",
        "ejemplo(10000)"
      ],
      "execution_count": null,
      "outputs": [
        {
          "output_type": "execute_result",
          "data": {
            "text/plain": [
              "10000"
            ]
          },
          "metadata": {
            "tags": []
          },
          "execution_count": 3
        }
      ]
    },
    {
      "cell_type": "markdown",
      "metadata": {
        "id": "NtH3Bs_Oc23V"
      },
      "source": [
        "el rango de for es diferente de n, por lo tanto es valor fijo, es decir se usa 100 veces, por lo tanto:\n",
        "\n",
        "**T(n)= 2 + 100**\n",
        "\n",
        "**T(n)=102**"
      ]
    },
    {
      "cell_type": "code",
      "metadata": {
        "id": "t8sggVudd7Fe",
        "outputId": "8e9678c5-59a4-427f-a683-16a934dfa2f6",
        "colab": {
          "base_uri": "https://localhost:8080/",
          "height": 34
        }
      },
      "source": [
        "def ejemplo(n):\n",
        "  x = 3 * 3.1416 + n\n",
        "  y = x + 3 * 3 - n\n",
        "  z = x + y\n",
        "  return z\n",
        "\n",
        "ejemplo(9)"
      ],
      "execution_count": null,
      "outputs": [
        {
          "output_type": "execute_result",
          "data": {
            "text/plain": [
              "36.849599999999995"
            ]
          },
          "metadata": {
            "tags": []
          },
          "execution_count": 5
        }
      ]
    },
    {
      "cell_type": "markdown",
      "metadata": {
        "id": "c9fDnHaHf0z9"
      },
      "source": [
        "**T(n) = 3**"
      ]
    },
    {
      "cell_type": "code",
      "metadata": {
        "id": "9SmSEgxhf-xW",
        "outputId": "62a4a1d9-c975-44ca-8faf-228a144009aa",
        "colab": {
          "base_uri": "https://localhost:8080/",
          "height": 34
        }
      },
      "source": [
        "def ejemplo(x):\n",
        "    n = 10\n",
        "    for j in range( 0 , x , 1 ):\n",
        "        n = j + n\n",
        "    return n\n",
        "ejemplo(10)"
      ],
      "execution_count": null,
      "outputs": [
        {
          "output_type": "execute_result",
          "data": {
            "text/plain": [
              "55"
            ]
          },
          "metadata": {
            "tags": []
          },
          "execution_count": 7
        }
      ]
    },
    {
      "cell_type": "markdown",
      "metadata": {
        "id": "IdzR_Hw5gc6Y"
      },
      "source": [
        "**T(n) = 1 + x**"
      ]
    },
    {
      "cell_type": "code",
      "metadata": {
        "id": "E6FQqJ4fglVI",
        "outputId": "6ab9b381-73f6-4e28-b876-68831ee7d8f8",
        "colab": {
          "base_uri": "https://localhost:8080/",
          "height": 51
        }
      },
      "source": [
        "from time import time\n",
        "\n",
        "def ejemplo(n):\n",
        "    start_time = time()\n",
        "    data=[[[1 for x in range(n)] for x in range(n)] \n",
        "          for x in range(n)]\n",
        "    suma = 0\n",
        "    for d in range(n):\n",
        "        for r in range(n):\n",
        "            for c in range(n):\n",
        "                suma += data[d][r][c]\n",
        "    elapsed_time = time() - start_time\n",
        "    print(\"Tiempo transcurrido: %0.10f segundos.\" % elapsed_time)\n",
        "    return suma\n",
        "ejemplo(10)"
      ],
      "execution_count": null,
      "outputs": [
        {
          "output_type": "stream",
          "text": [
            "Tiempo transcurrido: 0.0003080368 segundos.\n"
          ],
          "name": "stdout"
        },
        {
          "output_type": "execute_result",
          "data": {
            "text/plain": [
              "1000"
            ]
          },
          "metadata": {
            "tags": []
          },
          "execution_count": 14
        }
      ]
    },
    {
      "cell_type": "code",
      "metadata": {
        "id": "6ofSkT2Kn5zr",
        "outputId": "418d31c4-fc29-4734-e064-dbc6fc05a4f3",
        "colab": {
          "base_uri": "https://localhost:8080/",
          "height": 51
        }
      },
      "source": [
        "from time import time\n",
        "\n",
        "def ejemplo(n):\n",
        "    start_time = time()\n",
        "    data=[[[1 for x in range(n)] for x in range(n)] \n",
        "          for x in range(n)]\n",
        "    suma = 0\n",
        "\n",
        "    elapsed_time = time() - start_time\n",
        "    print(\"Tiempo transcurrido: %0.10f segundos.\" % elapsed_time)\n",
        "    return suma\n",
        "for entrada in range(100,600,100):\n",
        "  ejemplo(entrada)"
      ],
      "execution_count": null,
      "outputs": [
        {
          "output_type": "stream",
          "text": [
            "Tiempo transcurrido: 0.0000813007 segundos.\n"
          ],
          "name": "stdout"
        },
        {
          "output_type": "execute_result",
          "data": {
            "text/plain": [
              "0"
            ]
          },
          "metadata": {
            "tags": []
          },
          "execution_count": 16
        }
      ]
    },
    {
      "cell_type": "markdown",
      "metadata": {
        "id": "4zu-tLQkiW90"
      },
      "source": [
        "**T(n) = 2 + n ^ 3**"
      ]
    },
    {
      "cell_type": "markdown",
      "metadata": {
        "id": "1ETNylEg1fVB"
      },
      "source": [
        "# Ejemplo 7\n"
      ]
    },
    {
      "cell_type": "code",
      "metadata": {
        "id": "KBaDcwes2jpy"
      },
      "source": [
        "def ejemplo7( n ):\n",
        "    count = 0\n",
        "    for i in range( n ) :\n",
        "        for j in range( 25 ) :\n",
        "            for k in range( n ):\n",
        "                count += 1\n",
        "    return count"
      ],
      "execution_count": null,
      "outputs": []
    },
    {
      "cell_type": "markdown",
      "metadata": {
        "id": "1v_4yUam4kLn"
      },
      "source": [
        "**T(n)= 1+25n**"
      ]
    },
    {
      "cell_type": "code",
      "metadata": {
        "id": "m2FeZC9e2nrV"
      },
      "source": [
        "def ejemplo7_2( n ):\n",
        "    count = 0\n",
        "    for i in range( n ) :\n",
        "        for j in range( 25 ) :\n",
        "            for k in range( n ):\n",
        "                count += 1\n",
        "            for k in range( n ):\n",
        "                count += 1\n",
        "    return count # 1 + 25n^2 +25n^2"
      ],
      "execution_count": null,
      "outputs": []
    },
    {
      "cell_type": "markdown",
      "metadata": {
        "id": "C_3_eCn632_a"
      },
      "source": [
        "**T(n)= 1 + 25n^2 +25n^2**"
      ]
    },
    {
      "cell_type": "markdown",
      "metadata": {
        "id": "iFEzvLI-2_9z"
      },
      "source": [
        "# Ejemplo 8"
      ]
    },
    {
      "cell_type": "code",
      "metadata": {
        "id": "hq7N6nsO3Zxz"
      },
      "source": [
        "def ejemplo8( numeros ): # numeros es una lista (arreglo en c)\n",
        "    total = 0\n",
        "    for index in range(len(numeros)):\n",
        "        total = numeros[index]\n",
        "    return total\n",
        "ejemplo8(numeros)"
      ],
      "execution_count": null,
      "outputs": []
    },
    {
      "cell_type": "markdown",
      "metadata": {
        "id": "0K9I1i903Dm6"
      },
      "source": [
        "**T(n)= 1+n**\n",
        "\n",
        "**O(n)=n**"
      ]
    },
    {
      "cell_type": "markdown",
      "metadata": {
        "id": "XGpHcUzY39De"
      },
      "source": [
        "#Ejemplo 9"
      ]
    },
    {
      "cell_type": "code",
      "metadata": {
        "id": "xz-EkIE44BLT"
      },
      "source": [
        "def ejemplo9(  n ):\n",
        "    contador = 0\n",
        "    basura = 0\n",
        "    for i in range( n ) :\n",
        "        contador += 1\n",
        "    for j in range( n ) :\n",
        "        contador += 1\n",
        "    basura = basura + contador\n",
        "    return contador\n"
      ],
      "execution_count": null,
      "outputs": []
    },
    {
      "cell_type": "markdown",
      "metadata": {
        "id": "J2lsn0Bl4Bso"
      },
      "source": [
        "**T(n)= 3+2n**\n",
        "**o(n)=n**"
      ]
    },
    {
      "cell_type": "markdown",
      "metadata": {
        "id": "5hYxjFjN4Ueq"
      },
      "source": [
        "#ejemplo 10"
      ]
    },
    {
      "cell_type": "code",
      "metadata": {
        "id": "Nef-178i4ZMj"
      },
      "source": [
        "def ejemplo10( n ):\n",
        "    count = 0\n",
        "    for i in range( n ) :\n",
        "        for j in range( i+1 ) :\n",
        "          count += 1\n",
        "    return count"
      ],
      "execution_count": null,
      "outputs": []
    },
    {
      "cell_type": "markdown",
      "metadata": {
        "id": "2wPiNrCCUrBi"
      },
      "source": [
        "#n= 3\n",
        "\n",
        "000\n",
        "\n",
        "n00 <-- aqui empieza el for interno\n",
        "\n",
        "nn0 <--- aqui termina el for interno\n",
        "\n",
        "nnn\n",
        "\n",
        "#n = 4\n",
        "0000\n",
        "\n",
        "n000 <-- aqui empieza el for interno\n",
        "\n",
        "nn00\n",
        "\n",
        "nnn0 <--- aqui termina el for interno\n",
        "\n",
        "nnnn\n",
        "\n",
        "#n =5\n",
        "\n",
        "00000\n",
        "\n",
        "n0000 <-- aqui empieza el for interno\n",
        "\n",
        "nn000\n",
        "\n",
        "nnn00\n",
        "\n",
        "nnnn0 <--- aqui termina el for interno\n",
        "\n",
        "nnnnn"
      ]
    },
    {
      "cell_type": "markdown",
      "metadata": {
        "id": "qS1UnYiH4Zst"
      },
      "source": [
        "**T(n)=1+((n^2+n)/2)**"
      ]
    },
    {
      "cell_type": "markdown",
      "metadata": {
        "id": "PLizPrqEUp2d"
      },
      "source": [
        "# Ejemplo 11"
      ]
    },
    {
      "cell_type": "code",
      "metadata": {
        "id": "H_P50NP9Ux2H"
      },
      "source": [
        "def ejemplo11( n ):\n",
        "    count = 0\n",
        "    i = n\n",
        "    while i > 1 :\n",
        "        count += 1\n",
        "        i = i // 2 \n",
        "    return count\n",
        "print(ejemplo11(16))"
      ],
      "execution_count": null,
      "outputs": []
    },
    {
      "cell_type": "markdown",
      "metadata": {
        "id": "mgEBCPLNU0Qa"
      },
      "source": [
        "**T(n) =  2 + (2 Log 2 n)**"
      ]
    },
    {
      "cell_type": "markdown",
      "metadata": {
        "id": "uS44GpxCU4Wj"
      },
      "source": [
        "#Ejemplo 12"
      ]
    },
    {
      "cell_type": "code",
      "metadata": {
        "id": "1PWHo2WtU6uj"
      },
      "source": [
        "def ejemplo12( n ):\n",
        "    contador = 0\n",
        "    for x in range(n):\n",
        "        contador += ejemplo11(x)\n",
        "    return contador"
      ],
      "execution_count": null,
      "outputs": []
    },
    {
      "cell_type": "code",
      "metadata": {
        "id": "RrNMiMKpU_gm"
      },
      "source": [
        "def ejemplo12_bis( n=5 ):\n",
        "    contador = 0\n",
        "    contador = contador + ejemplo11(0) # 0\n",
        "    contador = contador + ejemplo11(1) # 0\n",
        "    contador = contador + ejemplo11(2) # 1\n",
        "    contador = contador + ejemplo11(3) # 1\n",
        "    contador = contador + ejemplo11(4) # 2\n",
        "    return contador\n",
        "ejemplo12_bis( 5 )  "
      ],
      "execution_count": null,
      "outputs": []
    },
    {
      "cell_type": "markdown",
      "metadata": {
        "id": "w5EKl-g2VCjy"
      },
      "source": [
        "**T(n)=1+n(2+2log2(n))**"
      ]
    },
    {
      "cell_type": "markdown",
      "metadata": {
        "id": "llxeBHgSVHNV"
      },
      "source": [
        "#Ejemplo 13"
      ]
    },
    {
      "cell_type": "code",
      "metadata": {
        "id": "HVpUhanDVLt8"
      },
      "source": [
        "def ejemplo13( x ):\n",
        "    bandera = x\n",
        "    contador = 0\n",
        "    while( bandera >= 10):\n",
        "        print(f\" x = { bandera } \")\n",
        "        bandera /= 10\n",
        "        contador = contador + 1\n",
        "    print(contador)\n",
        "# T(x) = log10 x +1\n",
        "ejemplo13( 1000 )"
      ],
      "execution_count": null,
      "outputs": []
    },
    {
      "cell_type": "markdown",
      "metadata": {
        "id": "cfczvTvYVSkl"
      },
      "source": [
        "**T(n)=1+log10(x)**"
      ]
    },
    {
      "cell_type": "markdown",
      "metadata": {
        "id": "w_VCz7uoVWPn"
      },
      "source": [
        "#Ejemplo 14"
      ]
    },
    {
      "cell_type": "code",
      "metadata": {
        "id": "BNX7p1t6VZtB"
      },
      "source": [
        "def ejemplo14( n ):\n",
        "    y = n\n",
        "    z = n\n",
        "    contador = 0\n",
        "    while y >= 3: #3\n",
        "        y /= 3  # 1\n",
        "        contador += 1  # cont =3\n",
        "    \n",
        "    while z >= 3: #27\n",
        "        z /= 3\n",
        "        contador += 1\n",
        "    return contador\n",
        "print(ejemplo14( 27 ))"
      ],
      "execution_count": null,
      "outputs": []
    },
    {
      "cell_type": "markdown",
      "metadata": {
        "id": "KB1sjXAKVdBl"
      },
      "source": [
        "**T(n)=2log3(n)**"
      ]
    },
    {
      "cell_type": "markdown",
      "metadata": {
        "id": "RI5CsxJ6Vdeb"
      },
      "source": [
        "#Ejemplo 15"
      ]
    },
    {
      "cell_type": "code",
      "metadata": {
        "id": "DbX2V9bGVm0F"
      },
      "source": [
        "def ejemplo15( n ): \n",
        "    contador = 0\n",
        "    for i in range( n ) :\n",
        "        for j in range( n ) :\n",
        "            contador += 1\n",
        "            \n",
        "    while n > 1 :\n",
        "        contador += 1\n",
        "        n /= 2\n",
        "    return contador\n",
        "\n",
        "print(ejemplo15(10))"
      ],
      "execution_count": null,
      "outputs": []
    },
    {
      "cell_type": "markdown",
      "metadata": {
        "id": "xI5jtR-5Vli1"
      },
      "source": [
        "**T(n)=1+n^2+log2(n)**"
      ]
    }
  ]
}