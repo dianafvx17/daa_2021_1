{
  "nbformat": 4,
  "nbformat_minor": 0,
  "metadata": {
    "colab": {
      "name": "21Octubre.ipynb",
      "provenance": [],
      "authorship_tag": "ABX9TyMxng9rFRgUkDTCSwzcJr5H",
      "include_colab_link": true
    },
    "kernelspec": {
      "name": "python3",
      "display_name": "Python 3"
    }
  },
  "cells": [
    {
      "cell_type": "markdown",
      "metadata": {
        "id": "view-in-github",
        "colab_type": "text"
      },
      "source": [
        "<a href=\"https://colab.research.google.com/github/dianafvx17/daa_2021_1/blob/master/21Octubre.ipynb\" target=\"_parent\"><img src=\"https://colab.research.google.com/assets/colab-badge.svg\" alt=\"Open In Colab\"/></a>"
      ]
    },
    {
      "cell_type": "code",
      "metadata": {
        "id": "s-0aTHG5ZGnz",
        "outputId": "4261b9ec-f80d-4dae-ecb5-bf2e14ab1fcd",
        "colab": {
          "base_uri": "https://localhost:8080/",
          "height": 34
        }
      },
      "source": [
        "def ejemplo(n):\n",
        "  c=n+1\n",
        "  d=c*n\n",
        "  e=n*n\n",
        "  total =c+e-d\n",
        "  print(f\"total={total}\")\n",
        "ejemplo(99999)"
      ],
      "execution_count": 1,
      "outputs": [
        {
          "output_type": "stream",
          "text": [
            "total=1\n"
          ],
          "name": "stdout"
        }
      ]
    },
    {
      "cell_type": "markdown",
      "metadata": {
        "id": "kt18XI8CayDd"
      },
      "source": [
        "*considerando solo las asignaciones*\n",
        "\n",
        "**T(n)= 4**"
      ]
    },
    {
      "cell_type": "code",
      "metadata": {
        "id": "sz8ctfKjaGAx",
        "outputId": "3aa4f4c6-fb3a-48b4-c438-f5183b01d013",
        "colab": {
          "base_uri": "https://localhost:8080/",
          "height": 34
        }
      },
      "source": [
        "def ejemplo (n):\n",
        "  contador=0\n",
        "  for i in range (n):\n",
        "    for j in range (n):\n",
        "      contador +=1\n",
        "  return contador\n",
        "ejemplo(20)"
      ],
      "execution_count": 2,
      "outputs": [
        {
          "output_type": "execute_result",
          "data": {
            "text/plain": [
              "400"
            ]
          },
          "metadata": {
            "tags": []
          },
          "execution_count": 2
        }
      ]
    },
    {
      "cell_type": "markdown",
      "metadata": {
        "id": "qzqlAtqsa3qY"
      },
      "source": [
        "**T(n) =1+n^2**"
      ]
    },
    {
      "cell_type": "markdown",
      "metadata": {
        "id": "J8uhFy-pbkD2"
      },
      "source": [
        "una ecuacion cuadratica (for anidado) ya representa un gran peso de almacenamiento en ram"
      ]
    },
    {
      "cell_type": "code",
      "metadata": {
        "id": "B9nHBBj9bVpr",
        "outputId": "d13eb45e-0809-4664-96e4-88605a7f8cae",
        "colab": {
          "base_uri": "https://localhost:8080/",
          "height": 34
        }
      },
      "source": [
        "def ejemplo(n): #n=4\n",
        "  x=n*2         #x=8\n",
        "  y =0          #y=0\n",
        "  for m in range (100): #cien operaciones\n",
        "    y=x-n       #y = 8 - 4 = 4\n",
        "  return y      #siempre será 4\n",
        "ejemplo(10000)"
      ],
      "execution_count": 3,
      "outputs": [
        {
          "output_type": "execute_result",
          "data": {
            "text/plain": [
              "10000"
            ]
          },
          "metadata": {
            "tags": []
          },
          "execution_count": 3
        }
      ]
    },
    {
      "cell_type": "markdown",
      "metadata": {
        "id": "NtH3Bs_Oc23V"
      },
      "source": [
        "el rango de for es diferente de n, por lo tanto es valor fijo, es decir se usa 100 veces, por lo tanto:\n",
        "\n",
        "**T(n)= 2 + 100**\n",
        "\n",
        "**T(n)=102**"
      ]
    },
    {
      "cell_type": "code",
      "metadata": {
        "id": "t8sggVudd7Fe",
        "outputId": "8e9678c5-59a4-427f-a683-16a934dfa2f6",
        "colab": {
          "base_uri": "https://localhost:8080/",
          "height": 34
        }
      },
      "source": [
        "def ejemplo(n):\n",
        "  x = 3 * 3.1416 + n\n",
        "  y = x + 3 * 3 - n\n",
        "  z = x + y\n",
        "  return z\n",
        "\n",
        "ejemplo(9)"
      ],
      "execution_count": 5,
      "outputs": [
        {
          "output_type": "execute_result",
          "data": {
            "text/plain": [
              "36.849599999999995"
            ]
          },
          "metadata": {
            "tags": []
          },
          "execution_count": 5
        }
      ]
    },
    {
      "cell_type": "markdown",
      "metadata": {
        "id": "c9fDnHaHf0z9"
      },
      "source": [
        "**T(n) = 3**"
      ]
    },
    {
      "cell_type": "code",
      "metadata": {
        "id": "9SmSEgxhf-xW",
        "outputId": "62a4a1d9-c975-44ca-8faf-228a144009aa",
        "colab": {
          "base_uri": "https://localhost:8080/",
          "height": 34
        }
      },
      "source": [
        "def ejemplo(x):\n",
        "    n = 10\n",
        "    for j in range( 0 , x , 1 ):\n",
        "        n = j + n\n",
        "    return n\n",
        "ejemplo(10)"
      ],
      "execution_count": 7,
      "outputs": [
        {
          "output_type": "execute_result",
          "data": {
            "text/plain": [
              "55"
            ]
          },
          "metadata": {
            "tags": []
          },
          "execution_count": 7
        }
      ]
    },
    {
      "cell_type": "markdown",
      "metadata": {
        "id": "IdzR_Hw5gc6Y"
      },
      "source": [
        "**T(n) = 1 + x**"
      ]
    },
    {
      "cell_type": "code",
      "metadata": {
        "id": "E6FQqJ4fglVI",
        "outputId": "6ab9b381-73f6-4e28-b876-68831ee7d8f8",
        "colab": {
          "base_uri": "https://localhost:8080/",
          "height": 51
        }
      },
      "source": [
        "from time import time\n",
        "\n",
        "def ejemplo(n):\n",
        "    start_time = time()\n",
        "    data=[[[1 for x in range(n)] for x in range(n)] \n",
        "          for x in range(n)]\n",
        "    suma = 0\n",
        "    for d in range(n):\n",
        "        for r in range(n):\n",
        "            for c in range(n):\n",
        "                suma += data[d][r][c]\n",
        "    elapsed_time = time() - start_time\n",
        "    print(\"Tiempo transcurrido: %0.10f segundos.\" % elapsed_time)\n",
        "    return suma\n",
        "ejemplo(10)"
      ],
      "execution_count": 14,
      "outputs": [
        {
          "output_type": "stream",
          "text": [
            "Tiempo transcurrido: 0.0003080368 segundos.\n"
          ],
          "name": "stdout"
        },
        {
          "output_type": "execute_result",
          "data": {
            "text/plain": [
              "1000"
            ]
          },
          "metadata": {
            "tags": []
          },
          "execution_count": 14
        }
      ]
    },
    {
      "cell_type": "code",
      "metadata": {
        "id": "6ofSkT2Kn5zr",
        "outputId": "418d31c4-fc29-4734-e064-dbc6fc05a4f3",
        "colab": {
          "base_uri": "https://localhost:8080/",
          "height": 51
        }
      },
      "source": [
        "from time import time\n",
        "\n",
        "def ejemplo(n):\n",
        "    start_time = time()\n",
        "    data=[[[1 for x in range(n)] for x in range(n)] \n",
        "          for x in range(n)]\n",
        "    suma = 0\n",
        "\n",
        "    elapsed_time = time() - start_time\n",
        "    print(\"Tiempo transcurrido: %0.10f segundos.\" % elapsed_time)\n",
        "    return suma\n",
        "for entrada in range(100,600,100)\n",
        "  ejemplo(entrada)"
      ],
      "execution_count": 16,
      "outputs": [
        {
          "output_type": "stream",
          "text": [
            "Tiempo transcurrido: 0.0000813007 segundos.\n"
          ],
          "name": "stdout"
        },
        {
          "output_type": "execute_result",
          "data": {
            "text/plain": [
              "0"
            ]
          },
          "metadata": {
            "tags": []
          },
          "execution_count": 16
        }
      ]
    },
    {
      "cell_type": "markdown",
      "metadata": {
        "id": "4zu-tLQkiW90"
      },
      "source": [
        "**T(n) = 2 + n ^ 3**"
      ]
    }
  ]
}