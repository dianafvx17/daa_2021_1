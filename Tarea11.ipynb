{
  "nbformat": 4,
  "nbformat_minor": 0,
  "metadata": {
    "colab": {
      "name": "Tarea11.ipynb",
      "provenance": [],
      "authorship_tag": "ABX9TyO5Kc4ViocIkLVb0AEDc0OE",
      "include_colab_link": true
    },
    "kernelspec": {
      "name": "python3",
      "display_name": "Python 3"
    }
  },
  "cells": [
    {
      "cell_type": "markdown",
      "metadata": {
        "id": "view-in-github",
        "colab_type": "text"
      },
      "source": [
        "<a href=\"https://colab.research.google.com/github/dianafvx17/daa_2021_1/blob/master/Tarea11.ipynb\" target=\"_parent\"><img src=\"https://colab.research.google.com/assets/colab-badge.svg\" alt=\"Open In Colab\"/></a>"
      ]
    },
    {
      "cell_type": "code",
      "metadata": {
        "id": "cMMy4hGTxVVu"
      },
      "source": [
        "class BinarySearchTree:\r\n",
        "  def __init__(self):\r\n",
        "    self.__root=None\r\n",
        "  def insert(self,value):\r\n",
        "    if self.__root==None:\r\n",
        "      self.__root=NodoArbol(value,None,None)\r\n",
        "    else: \r\n",
        "      self.__insert_nodo__(self.__root,value)\r\n",
        "  def __insert_nodo__(self,nodo,value):\r\n",
        "    if nodo.dato==value:\r\n",
        "      pass\r\n",
        "    elif value<nodo.dato:\r\n",
        "      if nodo.left==None:\r\n",
        "        nodo.left=NodoArbol(value,None,None)\r\n",
        "      else:\r\n",
        "        self.__insert_nodo__(nodo.left,value)\r\n",
        "    else:\r\n",
        "      if nodo.right==None:\r\n",
        "        nodo.right=NodoArbol(value,None,None)\r\n",
        "      else:\r\n",
        "        self.__insert_nodo__(nodo.right,value)\r\n",
        "  def buscar(self,value):\r\n",
        "    if self.__root==None:\r\n",
        "      return None\r\n",
        "    else: \r\n",
        "      return self.__busca_nodo(self.__root, value)\r\n",
        "  def __busca_nodo(self, nodo, value):\r\n",
        "    if nodo==None:\r\n",
        "      return None\r\n",
        "    elif nodo.dato==value:\r\n",
        "      return nodo.dato\r\n",
        "    elif value < nodo.dato:\r\n",
        "      return self.__busca_nodo(nodo.left, value)\r\n",
        "    else:\r\n",
        "      return self.__busca_nodo(nodo.right, value)\r\n",
        "      \r\n",
        "  def eliminarNodo(self, nodo):\r\n",
        "    if (not tieneHijos(nodo)):\r\n",
        "        eliminarSinHijos(self, nodo)\r\n",
        "    elif (tieneAmbosHijos(nodo)):\r\n",
        "        eliminarConAmbosHijos(self, nodo)\r\n",
        "    elif (tieneHijoDerecho(nodo)):\r\n",
        "        eliminarCon1Hijo(self, nodo, nodo.right)\r\n",
        "    else:\r\n",
        "        eliminarCon1Hijo(self, nodo, nodo.left)\r\n",
        "   \r\n",
        "       \r\n",
        "  def tieneHijoDerecho(nodo): return nodo.right != None\r\n",
        "  def tieneHijoIzquierdo(nodo): return nodo.left != None     \r\n",
        "  def tieneHijos(nodo): return tieneHijoDerecho(nodo) or tieneHijoIzquierdo(nodo)\r\n",
        "  def tieneAmbosHijos(nodo): return tieneHijoDerecho(nodo) and tieneHijoIzquierdo(nodo)\r\n",
        "  def esHijoIzquierdo(nodo): return nodo.padre.left == nodo\r\n",
        "  def esRaiz(nodo): return nodo.padre == None\r\n",
        "  def eliminarSinHijos(arbol, nodo):\r\n",
        "    if (esRaiz(nodo)):\r\n",
        "        arbol.raiz = None\r\n",
        "    elif esHijoIzquierdo(nodo):\r\n",
        "        nodo.padre.izquierda = None\r\n",
        "    else:\r\n",
        "        nodo.padre.derecha = None\r\n",
        "\r\n",
        "\r\n",
        "  def eliminarCon1Hijo(arbol, nodo, hijo):\r\n",
        "    if (esRaiz(nodo)):\r\n",
        "        arbol.raiz = hijo\r\n",
        "        arbol.raiz.padre = None\r\n",
        "    elif esHijoIzquierdo(nodo):\r\n",
        "        nodo.padre.izquierda = hijo\r\n",
        "        hijo.padre = nodo.padre\r\n",
        "    else:\r\n",
        "        nodo.padre.derecha = hijo\r\n",
        "        hijo.padre = nodo.padre\r\n",
        "\r\n",
        "  def eliminarConAmbosHijos(arbol, nodo):\r\n",
        "    menorHijoRamaDerecha = buscarNodoMenorValor(nodo.derecha)\r\n",
        "    eliminarNodo(arbol, menorHijoRamaDerecha)\r\n",
        "    nodo.elemento = menorHijoRamaDerecha.elemento"
      ],
      "execution_count": null,
      "outputs": []
    }
  ]
}