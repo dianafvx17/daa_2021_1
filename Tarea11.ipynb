{
  "nbformat": 4,
  "nbformat_minor": 0,
  "metadata": {
    "colab": {
      "name": "Tarea11.ipynb",
      "provenance": [],
      "authorship_tag": "ABX9TyNxJTyZ5AZ2e3W+NUXXXmNR",
      "include_colab_link": true
    },
    "kernelspec": {
      "name": "python3",
      "display_name": "Python 3"
    }
  },
  "cells": [
    {
      "cell_type": "markdown",
      "metadata": {
        "id": "view-in-github",
        "colab_type": "text"
      },
      "source": [
        "<a href=\"https://colab.research.google.com/github/dianafvx17/daa_2021_1/blob/master/Tarea11.ipynb\" target=\"_parent\"><img src=\"https://colab.research.google.com/assets/colab-badge.svg\" alt=\"Open In Colab\"/></a>"
      ]
    },
    {
      "cell_type": "code",
      "metadata": {
        "id": "gag8GjDiliuZ"
      },
      "source": [
        "class NodoArbol:\r\n",
        "  def __init__(self, dato, hijo_izq=None, hijo_der=None):\r\n",
        "    self.dato=dato\r\n",
        "    self.left=hijo_izq\r\n",
        "    self.right=hijo_der"
      ],
      "execution_count": 2,
      "outputs": []
    },
    {
      "cell_type": "code",
      "metadata": {
        "id": "cMMy4hGTxVVu"
      },
      "source": [
        "class BinarySearchTree:\r\n",
        "  def __init__(self):\r\n",
        "    self.__root=None\r\n",
        "  def insert(self,value):\r\n",
        "    if self.__root==None:\r\n",
        "      self.__root=NodoArbol(value,None,None)\r\n",
        "    else: \r\n",
        "      self.__insert_nodo__(self.__root,value)\r\n",
        "  def __insert_nodo__(self,nodo,value):\r\n",
        "    if nodo.dato==value:\r\n",
        "      pass\r\n",
        "    elif value<nodo.dato:\r\n",
        "      if nodo.left==None:\r\n",
        "        nodo.left=NodoArbol(value,None,None)\r\n",
        "      else:\r\n",
        "        self.__insert_nodo__(nodo.left,value)\r\n",
        "    else:\r\n",
        "      if nodo.right==None:\r\n",
        "        nodo.right=NodoArbol(value,None,None)\r\n",
        "      else:\r\n",
        "        self.__insert_nodo__(nodo.right,value)\r\n",
        "  def buscar(self,value):\r\n",
        "    if self.__root==None:\r\n",
        "      return None\r\n",
        "    else: \r\n",
        "      return self.__busca_nodo(self.__root, value)\r\n",
        "  def __busca_nodo(self, nodo, value):\r\n",
        "    if nodo==None:\r\n",
        "      return None\r\n",
        "    elif nodo.dato==value:\r\n",
        "      return nodo.dato\r\n",
        "    elif value < nodo.dato:\r\n",
        "      return self.__busca_nodo(nodo.left, value)\r\n",
        "    else:\r\n",
        "      return self.__busca_nodo(nodo.right, value)\r\n",
        "  def transversal(self, format=\"inorden\"):\r\n",
        "    if format==\"inorden\":\r\n",
        "      self.__recorrido_in(self.__root)\r\n",
        "    elif format== \"preorden\":\r\n",
        "      self.__recorrido_pre(self.__root)\r\n",
        "    elif format==\"posorden\":\r\n",
        "      self.__recorrido_pos(self.__root)\r\n",
        "    else:\r\n",
        "      print(\"formato de recorrido no valido\")\r\n",
        "  def __recorrido_pre(self,nodo):\r\n",
        "    if nodo!=None:\r\n",
        "      print(nodo.dato, end=\",\")\r\n",
        "      self.__recorrido_pre(nodo.left)\r\n",
        "      self.__recorrido_pre(nodo.right)\r\n",
        "  def __recorrido_in(self,nodo):\r\n",
        "    if nodo!=None:\r\n",
        "      self.__recorrido_in(nodo.left)\r\n",
        "      print(nodo.dato, end=\",\")\r\n",
        "      self.__recorrido_in(nodo.right)\r\n",
        "  def __recorrido_pos(self,nodo):\r\n",
        "    if nodo!=None:\r\n",
        "      self.__recorrido_pos(nodo.left)\r\n",
        "      self.__recorrido_pos(nodo.right)\r\n",
        "      print(nodo.dato, end=\",\")\r\n",
        "  def eliminarNodo(self, nodo):\r\n",
        "    if nodo.right != None or nodo.left != None: \r\n",
        "        return self.__root = None\r\n",
        "    elif nodo.right != None and nodo.left != None:\r\n",
        "        eliminarConAmbosHijos(self, nodo)\r\n",
        "        def eliminarConAmbosHijos(self, nodo):\r\n",
        "    menorHijoRamaDerecha = buscarNodoMenorValor(nodo.right)\r\n",
        "    eliminarNodo(self, menorHijoRamaDerecha)\r\n",
        "    nodo.dato = menorHijoRamaDerecha.dato\r\n",
        "    elif nodo.right != None:\r\n",
        "        def eliminarCon1Hijo(self, nodo, hijo):\r\n",
        "    if nodo.dato == None:\r\n",
        "        self.__root = hijo\r\n",
        "        self.__root.padre = None\r\n",
        "    elif esHijoIzquierdo(nodo):\r\n",
        "        nodo.padre.left = hijo\r\n",
        "        hijo.padre = nodo.padre\r\n",
        "    else:\r\n",
        "        nodo.padre.right = hijo\r\n",
        "        hijo.padre = nodo.padre\r\n",
        "    else:\r\n",
        "        eliminarCon1Hijo(self, nodo, nodo.left)\r\n",
        "   \r\n",
        "       \r\n",
        "  def tieneHijoDerecho(nodo): \r\n",
        "    return nodo.right != None\r\n",
        "  def tieneHijoIzquierdo(nodo): \r\n",
        "    return nodo.left != None     \r\n",
        "  def tieneHijos(nodo): \r\n",
        "    return tieneHijoDerecho(nodo) or tieneHijoIzquierdo(nodo)\r\n",
        "  def tieneAmbosHijos(nodo): \r\n",
        "    return tieneHijoDerecho(nodo) and tieneHijoIzquierdo(nodo)\r\n",
        "  def esHijoIzquierdo(nodo): \r\n",
        "    return nodo.padre.left == nodo\r\n",
        "  def esRaiz(nodo): \r\n",
        "    return nodo.padre == None\r\n",
        "\r\n",
        "  def eliminarSinHijos(self, nodo):\r\n",
        "    if (esRaiz(nodo)):\r\n",
        "        self.__root = None\r\n",
        "    elif esHijoIzquierdo(nodo):\r\n",
        "        nodo.padre.left = None\r\n",
        "    else:\r\n",
        "        nodo.padre.right = None\r\n",
        "\r\n",
        "\r\n",
        "  def eliminarCon1Hijo(self, nodo, hijo):\r\n",
        "    if (esRaiz(nodo)):\r\n",
        "        self.__root = hijo\r\n",
        "        self.__root.padre = None\r\n",
        "    elif esHijoIzquierdo(nodo):\r\n",
        "        nodo.padre.left = hijo\r\n",
        "        hijo.padre = nodo.padre\r\n",
        "    else:\r\n",
        "        nodo.padre.right = hijo\r\n",
        "        hijo.padre = nodo.padre\r\n",
        "\r\n",
        "  def eliminarConAmbosHijos(self, nodo):\r\n",
        "    menorHijoRamaDerecha = buscarNodoMenorValor(nodo.right)\r\n",
        "    eliminarNodo(self, menorHijoRamaDerecha)\r\n",
        "    nodo.dato = menorHijoRamaDerecha.dato\r\n",
        "  def buscarNodoMenorValor(nodo):\r\n",
        "    return nodo \r\n",
        "    if nodo.left == None: \r\n",
        "      pass\r\n",
        "    else: \r\n",
        "      buscarNodoMenorValor(nodo.left)"
      ],
      "execution_count": 12,
      "outputs": []
    },
    {
      "cell_type": "code",
      "metadata": {
        "colab": {
          "base_uri": "https://localhost:8080/",
          "height": 371
        },
        "id": "0zAaLlp6ltOM",
        "outputId": "da6bf177-aa35-4e1d-a13b-925b1f7032d0"
      },
      "source": [
        "bst=BinarySearchTree(10)\r\n",
        "bst.insert(50)\r\n",
        "bst.insert(30)\r\n",
        "bst.insert(20)\r\n",
        "bst.eliminarNodo(20)\r\n",
        "print(\"recorrido pre\")\r\n",
        "bst.transversal(format=\"preorden\")"
      ],
      "execution_count": 13,
      "outputs": [
        {
          "output_type": "error",
          "ename": "NameError",
          "evalue": "ignored",
          "traceback": [
            "\u001b[0;31m---------------------------------------------------------------------------\u001b[0m",
            "\u001b[0;31mNameError\u001b[0m                                 Traceback (most recent call last)",
            "\u001b[0;32m<ipython-input-13-d3a8d20f7a9f>\u001b[0m in \u001b[0;36m<module>\u001b[0;34m()\u001b[0m\n\u001b[1;32m      3\u001b[0m \u001b[0mbst\u001b[0m\u001b[0;34m.\u001b[0m\u001b[0minsert\u001b[0m\u001b[0;34m(\u001b[0m\u001b[0;36m30\u001b[0m\u001b[0;34m)\u001b[0m\u001b[0;34m\u001b[0m\u001b[0;34m\u001b[0m\u001b[0m\n\u001b[1;32m      4\u001b[0m \u001b[0mbst\u001b[0m\u001b[0;34m.\u001b[0m\u001b[0minsert\u001b[0m\u001b[0;34m(\u001b[0m\u001b[0;36m20\u001b[0m\u001b[0;34m)\u001b[0m\u001b[0;34m\u001b[0m\u001b[0;34m\u001b[0m\u001b[0m\n\u001b[0;32m----> 5\u001b[0;31m \u001b[0mbst\u001b[0m\u001b[0;34m.\u001b[0m\u001b[0meliminarNodo\u001b[0m\u001b[0;34m(\u001b[0m\u001b[0;36m20\u001b[0m\u001b[0;34m)\u001b[0m\u001b[0;34m\u001b[0m\u001b[0;34m\u001b[0m\u001b[0m\n\u001b[0m\u001b[1;32m      6\u001b[0m \u001b[0mprint\u001b[0m\u001b[0;34m(\u001b[0m\u001b[0;34m\"recorrido pre\"\u001b[0m\u001b[0;34m)\u001b[0m\u001b[0;34m\u001b[0m\u001b[0;34m\u001b[0m\u001b[0m\n\u001b[1;32m      7\u001b[0m \u001b[0mbst\u001b[0m\u001b[0;34m.\u001b[0m\u001b[0mtransversal\u001b[0m\u001b[0;34m(\u001b[0m\u001b[0mformat\u001b[0m\u001b[0;34m=\u001b[0m\u001b[0;34m\"preorden\"\u001b[0m\u001b[0;34m)\u001b[0m\u001b[0;34m\u001b[0m\u001b[0;34m\u001b[0m\u001b[0m\n",
            "\u001b[0;32m<ipython-input-12-5e2e590605aa>\u001b[0m in \u001b[0;36meliminarNodo\u001b[0;34m(self, nodo)\u001b[0m\n\u001b[1;32m     60\u001b[0m       \u001b[0mprint\u001b[0m\u001b[0;34m(\u001b[0m\u001b[0mnodo\u001b[0m\u001b[0;34m.\u001b[0m\u001b[0mdato\u001b[0m\u001b[0;34m,\u001b[0m \u001b[0mend\u001b[0m\u001b[0;34m=\u001b[0m\u001b[0;34m\",\"\u001b[0m\u001b[0;34m)\u001b[0m\u001b[0;34m\u001b[0m\u001b[0;34m\u001b[0m\u001b[0m\n\u001b[1;32m     61\u001b[0m   \u001b[0;32mdef\u001b[0m \u001b[0meliminarNodo\u001b[0m\u001b[0;34m(\u001b[0m\u001b[0mself\u001b[0m\u001b[0;34m,\u001b[0m \u001b[0mnodo\u001b[0m\u001b[0;34m)\u001b[0m\u001b[0;34m:\u001b[0m\u001b[0;34m\u001b[0m\u001b[0;34m\u001b[0m\u001b[0m\n\u001b[0;32m---> 62\u001b[0;31m     \u001b[0;32mif\u001b[0m \u001b[0;32mnot\u001b[0m \u001b[0mtieneHijos\u001b[0m\u001b[0;34m(\u001b[0m\u001b[0mnodo\u001b[0m\u001b[0;34m)\u001b[0m\u001b[0;34m:\u001b[0m\u001b[0;34m\u001b[0m\u001b[0;34m\u001b[0m\u001b[0m\n\u001b[0m\u001b[1;32m     63\u001b[0m         \u001b[0meliminarSinHijos\u001b[0m\u001b[0;34m(\u001b[0m\u001b[0mself\u001b[0m\u001b[0;34m,\u001b[0m \u001b[0mnodo\u001b[0m\u001b[0;34m)\u001b[0m\u001b[0;34m\u001b[0m\u001b[0;34m\u001b[0m\u001b[0m\n\u001b[1;32m     64\u001b[0m     \u001b[0;32melif\u001b[0m \u001b[0;34m(\u001b[0m\u001b[0mtieneAmbosHijos\u001b[0m\u001b[0;34m(\u001b[0m\u001b[0mnodo\u001b[0m\u001b[0;34m)\u001b[0m\u001b[0;34m)\u001b[0m\u001b[0;34m:\u001b[0m\u001b[0;34m\u001b[0m\u001b[0;34m\u001b[0m\u001b[0m\n",
            "\u001b[0;31mNameError\u001b[0m: name 'tieneHijos' is not defined"
          ]
        }
      ]
    }
  ]
}