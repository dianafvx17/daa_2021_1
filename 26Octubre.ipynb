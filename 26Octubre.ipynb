{
  "nbformat": 4,
  "nbformat_minor": 0,
  "metadata": {
    "colab": {
      "name": "26Octubre.ipynb",
      "provenance": [],
      "authorship_tag": "ABX9TyNxEg3NavUrb4ZIym1tU9nz",
      "include_colab_link": true
    },
    "kernelspec": {
      "name": "python3",
      "display_name": "Python 3"
    }
  },
  "cells": [
    {
      "cell_type": "markdown",
      "metadata": {
        "id": "view-in-github",
        "colab_type": "text"
      },
      "source": [
        "<a href=\"https://colab.research.google.com/github/dianafvx17/daa_2021_1/blob/master/26Octubre.ipynb\" target=\"_parent\"><img src=\"https://colab.research.google.com/assets/colab-badge.svg\" alt=\"Open In Colab\"/></a>"
      ]
    },
    {
      "cell_type": "markdown",
      "metadata": {
        "id": "duz5TkptXeNY"
      },
      "source": [
        "# Ejemplo 10 "
      ]
    },
    {
      "cell_type": "code",
      "metadata": {
        "id": "7YO19IWnXbGF"
      },
      "source": [
        "def ejemplo10( n ):\n",
        "    count = 0\n",
        "    for i in range( n ) :\n",
        "        for j in range( i+1 ) :\n",
        "          count += 1\n",
        "    return count"
      ],
      "execution_count": null,
      "outputs": []
    },
    {
      "cell_type": "markdown",
      "metadata": {
        "id": "x8SDAuDtcl5-"
      },
      "source": [
        "\n",
        "#n= 3\n",
        "\n",
        "000\n",
        "\n",
        "n00 <-- aqui empieza el for interno\n",
        "\n",
        "nn0 <--- aqui termina el for interno\n",
        "\n",
        "nnn\n",
        "\n",
        "#n = 4\n",
        "0000\n",
        "\n",
        "n000 <-- aqui empieza el for interno\n",
        "\n",
        "nn00\n",
        "\n",
        "nnn0 <--- aqui termina el for interno\n",
        "\n",
        "nnnn\n",
        "\n",
        "#n =5\n",
        "\n",
        "00000\n",
        "\n",
        "n0000 <-- aqui empieza el for interno\n",
        "\n",
        "nn000\n",
        "\n",
        "nnn00\n",
        "\n",
        "nnnn0 <--- aqui termina el for interno\n",
        "\n",
        "nnnnn"
      ]
    },
    {
      "cell_type": "markdown",
      "metadata": {
        "id": "DPNjcr-pXmzK"
      },
      "source": [
        "\n",
        "T(n)=1+((n^2+n)/2)"
      ]
    },
    {
      "cell_type": "code",
      "metadata": {
        "id": "f7QiEnDshBj_"
      },
      "source": [
        "def ejemplo11( n ):\n",
        "    count = 0\n",
        "    i = n\n",
        "    while i > 1 :\n",
        "        count += 1\n",
        "        i = i // 2 \n",
        "    return count\n",
        "print(ejemplo11(16))\n",
        "# T(n) =  2 + (2 Log 2 n)"
      ],
      "execution_count": null,
      "outputs": []
    },
    {
      "cell_type": "markdown",
      "metadata": {
        "id": "OmMm8e__hCMk"
      },
      "source": [
        "**T(n)=2 + (2 log 2 n)**"
      ]
    },
    {
      "cell_type": "code",
      "metadata": {
        "id": "kIxxDKBbkp_G"
      },
      "source": [
        "def ejemplo12( n ):\n",
        "    contador = 0\n",
        "    for x in range(n):\n",
        "        contador += ejemplo11(x)\n",
        "    return contador"
      ],
      "execution_count": null,
      "outputs": []
    },
    {
      "cell_type": "code",
      "metadata": {
        "id": "joV61XZGkujs"
      },
      "source": [
        "def ejemplo12_bis( n=5 ):\n",
        "    contador = 0\n",
        "    contador = contador + ejemplo11(0) # 0\n",
        "    contador = contador + ejemplo11(1) # 0\n",
        "    contador = contador + ejemplo11(2) # 1\n",
        "    contador = contador + ejemplo11(3) # 1\n",
        "    contador = contador + ejemplo11(4) # 2\n",
        "    return contador\n",
        "ejemplo12_bis( 5 )  "
      ],
      "execution_count": null,
      "outputs": []
    },
    {
      "cell_type": "markdown",
      "metadata": {
        "id": "rtchC5HCmpTk"
      },
      "source": [
        "T(n)=1+n(2+2log2(n))"
      ]
    },
    {
      "cell_type": "code",
      "metadata": {
        "id": "aemTtAdfmdOB"
      },
      "source": [
        "def ejemplo13( x ):\n",
        "    bandera = x\n",
        "    contador = 0\n",
        "    while( bandera >= 10):\n",
        "        print(f\" x = { bandera } \")\n",
        "        bandera /= 10\n",
        "        contador = contador + 1\n",
        "    print(contador)\n",
        "# T(x) = log10 x +1\n",
        "ejemplo13( 1000 )"
      ],
      "execution_count": null,
      "outputs": []
    },
    {
      "cell_type": "markdown",
      "metadata": {
        "id": "CXeIoEjqnmXC"
      },
      "source": [
        "T(n)=1+log10(x)"
      ]
    },
    {
      "cell_type": "code",
      "metadata": {
        "id": "mLL0VN7qnLdY"
      },
      "source": [
        "def ejemplo14( n ):\n",
        "    y = n\n",
        "    z = n\n",
        "    contador = 0\n",
        "    while y >= 3: #3\n",
        "        y /= 3  # 1\n",
        "        contador += 1  # cont =3\n",
        "    \n",
        "    while z >= 3: #27\n",
        "        z /= 3\n",
        "        contador += 1\n",
        "    return contador\n",
        "print(ejemplo14( 27 ))"
      ],
      "execution_count": null,
      "outputs": []
    },
    {
      "cell_type": "markdown",
      "metadata": {
        "id": "U23ZISiWm23z"
      },
      "source": [
        "T(n)=2log3(n)"
      ]
    },
    {
      "cell_type": "code",
      "metadata": {
        "id": "EO8p7YLKonFt"
      },
      "source": [
        "def ejemplo15( n ): \n",
        "    contador = 0\n",
        "    for i in range( n ) :\n",
        "        for j in range( n ) :\n",
        "            contador += 1\n",
        "            \n",
        "    while n > 1 :\n",
        "        contador += 1\n",
        "        n /= 2\n",
        "    return contador\n",
        "\n",
        "print(ejemplo15(10))"
      ],
      "execution_count": null,
      "outputs": []
    },
    {
      "cell_type": "markdown",
      "metadata": {
        "id": "KOD4gM93ovQk"
      },
      "source": [
        "T(n)=1+n^2+log2(n)"
      ]
    }
  ]
}