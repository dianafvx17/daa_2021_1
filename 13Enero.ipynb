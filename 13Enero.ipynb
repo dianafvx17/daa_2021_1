{
  "nbformat": 4,
  "nbformat_minor": 0,
  "metadata": {
    "colab": {
      "name": "13Enero.ipynb",
      "provenance": [],
      "collapsed_sections": [],
      "authorship_tag": "ABX9TyOFf48y7yfGmvaLDzfEoB4X",
      "include_colab_link": true
    },
    "kernelspec": {
      "name": "python3",
      "display_name": "Python 3"
    }
  },
  "cells": [
    {
      "cell_type": "markdown",
      "metadata": {
        "id": "view-in-github",
        "colab_type": "text"
      },
      "source": [
        "<a href=\"https://colab.research.google.com/github/dianafvx17/daa_2021_1/blob/master/13Enero.ipynb\" target=\"_parent\"><img src=\"https://colab.research.google.com/assets/colab-badge.svg\" alt=\"Open In Colab\"/></a>"
      ]
    },
    {
      "cell_type": "code",
      "metadata": {
        "id": "sBGCZZnNMlwf"
      },
      "source": [
        "class NodoArbol:\r\n",
        "  def __init__(self, data, hijo_izq=None, hijo_der=None):\r\n",
        "    self.data=value\r\n",
        "    self.left=hijo_izq\r\n",
        "    self.right=hijo_der"
      ],
      "execution_count": 3,
      "outputs": []
    },
    {
      "cell_type": "code",
      "metadata": {
        "id": "FLKs6-lgS4uE"
      },
      "source": [
        "class Binario:\r\n",
        "  def __init__(self):\r\n",
        "    self.root=None\r\n",
        "  def insert(self,value):\r\n",
        "    if self.__root==None:\r\n",
        "      self.__root=NodoArbol(value,None,None)\r\n",
        "    else: \r\n",
        "      self.__insert_nodo__(self.__root,value)\r\n",
        "  def __insert_nodo__(self,non,value):\r\n",
        "    if nodo.data==value:\r\n",
        "      pass\r\n",
        "    elif value<nodo.data:\r\n",
        "      if nodo.left==None:\r\n",
        "        nodo.left=NodoArbol(value,None,None)\r\n",
        "      else:\r\n",
        "        self.__insert_nodo__(nodo.left,value)\r\n",
        "    else:\r\n",
        "      if nodo.right==None:\r\n",
        "        nodo.right=NodoArbol(value,None,None)\r\n",
        "      else:\r\n",
        "        self.__insert_nodo__(nodo.right,value)"
      ],
      "execution_count": 4,
      "outputs": []
    },
    {
      "cell_type": "code",
      "metadata": {
        "id": "D_PgEgQ0bwlx"
      },
      "source": [
        "AB=Binario()\r\n",
        "AB.insert(50)\r\n",
        "AB.insert(30)\r\n",
        "AB.insert(20)\r\n",
        "AB.serch(20)"
      ],
      "execution_count": null,
      "outputs": []
    }
  ]
}