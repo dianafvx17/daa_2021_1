{
  "nbformat": 4,
  "nbformat_minor": 0,
  "metadata": {
    "colab": {
      "name": "05Octubre.ipynb",
      "provenance": [],
      "authorship_tag": "ABX9TyPTjnErk4Htta2Tmd9KNJYf",
      "include_colab_link": true
    },
    "kernelspec": {
      "name": "python3",
      "display_name": "Python 3"
    }
  },
  "cells": [
    {
      "cell_type": "markdown",
      "metadata": {
        "id": "view-in-github",
        "colab_type": "text"
      },
      "source": [
        "<a href=\"https://colab.research.google.com/github/dianafvx17/daa_2021_1/blob/master/05Octubre.ipynb\" target=\"_parent\"><img src=\"https://colab.research.google.com/assets/colab-badge.svg\" alt=\"Open In Colab\"/></a>"
      ]
    },
    {
      "cell_type": "markdown",
      "metadata": {
        "id": "Vm4Q9FvJFwtj"
      },
      "source": [
        "#Pilas \n",
        "\n",
        "\n",
        "*   Last in First Out (LIFO)\n",
        "*   De tipo lineal\n",
        "*   Se pueden obtener e ingresar datos desde el tope\n",
        "*   push para agregar \n",
        "*   pop para sacar\n",
        "#operaciones \n",
        "\n",
        "\n",
        "1.   is_empty (regresa true o false \n",
        "2.   get_top(regresa el elemneto en el tope SIN SACARLO)\n",
        "3.   pop (Saca el elemento en el tope y lo regresa)\n",
        "4.   push(mete un elemento en el tope)\n",
        "5.   get_length(regresa el numero de elementos de la pila)\n"
      ]
    },
    {
      "cell_type": "code",
      "metadata": {
        "id": "QxXgjE_5Dryf"
      },
      "source": [
        "class Stack:\n",
        "  def __init__(self):\n",
        "    self.__datos=[]\n",
        "  def is_empty(self):\n",
        "    return len(self.__datos)==0\n",
        "  def get_top(self):\n",
        "    return self.__datos[-1]\n",
        "  def pop(self):\n",
        "    return self.__datos.pop()\n",
        "  def push(self, valor):\n",
        "    self.__datos.append(valor)\n",
        "  def det_lenght(self):\n",
        "    return len(self.__datos)\n",
        "  def to_string(self):\n",
        "    print(\"|___________|\")\n",
        "    for ele in self.__datos[-1::-1]:\n",
        "      print(f\"{ele}\")\n",
        "    print(\"|___________|\\n\")\n"
      ],
      "execution_count": 6,
      "outputs": []
    },
    {
      "cell_type": "code",
      "metadata": {
        "id": "HZQmN1QvFVJb",
        "outputId": "5e85df6b-0464-463f-ea99-972d482ca984",
        "colab": {
          "base_uri": "https://localhost:8080/",
          "height": 646
        }
      },
      "source": [
        "pila1 = Stack()\n",
        "pila1.push(10)\n",
        "pila1.push(20)\n",
        "pila1.push(1)\n",
        "pila1.push(393)\n",
        "pila1.push(103)\n",
        "pila1.to_string()\n",
        "\n",
        "sacado=pila1.pop()\n",
        "print(sacado)\n",
        "pila1.to_string()\n",
        "\n",
        "pila1.push(444)\n",
        "pila1.push(233)\n",
        "pila1.to_string()\n",
        "\n",
        "print(f\"el elemento en el tope es: {pila1.get_top()}\")\n",
        "pila1.to_string()\n",
        "print(f\"la pila tiene: {pila1.det_lenght()} elementos\")\n",
        "print(f\"la pila esta vacia? {pila1.is_empty()} \")"
      ],
      "execution_count": 8,
      "outputs": [
        {
          "output_type": "stream",
          "text": [
            "|___________|\n",
            "103\n",
            "393\n",
            "1\n",
            "20\n",
            "10\n",
            "|___________|\n",
            "\n",
            "103\n",
            "|___________|\n",
            "393\n",
            "1\n",
            "20\n",
            "10\n",
            "|___________|\n",
            "\n",
            "|___________|\n",
            "233\n",
            "444\n",
            "393\n",
            "1\n",
            "20\n",
            "10\n",
            "|___________|\n",
            "\n",
            "el elemento en el tope es: 233\n",
            "|___________|\n",
            "233\n",
            "444\n",
            "393\n",
            "1\n",
            "20\n",
            "10\n",
            "|___________|\n",
            "\n",
            "la pila tiene6 elementos\n",
            "la pila esta vacia?False\n"
          ],
          "name": "stdout"
        }
      ]
    },
    {
      "cell_type": "markdown",
      "metadata": {
        "id": "mq1kOMebIyNd"
      },
      "source": [
        "#ejemplo de aplicacion de pilas\n",
        "\n",
        "x=4+5+6+3\n",
        "x=4+(5+6)+3\n",
        "x=4+5+6)+3\n",
        "if (a==b) {System.out.print(b)\n",
        "if (a==b) {System.out.print(b}\n",
        "\n",
        "#reglas\n",
        "'(' ->push(´@´)\n",
        "')' -> pop ()\n",
        "si al final del recorrido la pila esta vacia, entonces la cadena es correcta.\n",
        "si es un pop desencadena en querer sacar un elemnto de la pila significa que la cadena no esta balanceada.\n",
        "\n"
      ]
    },
    {
      "cell_type": "markdown",
      "metadata": {
        "id": "mv8XaW_mNKnQ"
      },
      "source": [
        "#tarea\n",
        "hacer un programa que valide el balancel de (), [] y {} en programas del lenguaje C y Java\n"
      ]
    }
  ]
}