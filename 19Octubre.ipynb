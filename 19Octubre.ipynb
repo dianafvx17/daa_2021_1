{
  "nbformat": 4,
  "nbformat_minor": 0,
  "metadata": {
    "colab": {
      "name": "19Octubre.ipynb",
      "provenance": [],
      "authorship_tag": "ABX9TyNU7onlJj3k2RUtNTr18cMO",
      "include_colab_link": true
    },
    "kernelspec": {
      "name": "python3",
      "display_name": "Python 3"
    }
  },
  "cells": [
    {
      "cell_type": "markdown",
      "metadata": {
        "id": "view-in-github",
        "colab_type": "text"
      },
      "source": [
        "<a href=\"https://colab.research.google.com/github/dianafvx17/daa_2021_1/blob/master/19Octubre.ipynb\" target=\"_parent\"><img src=\"https://colab.research.google.com/assets/colab-badge.svg\" alt=\"Open In Colab\"/></a>"
      ]
    },
    {
      "cell_type": "code",
      "metadata": {
        "id": "BHwY2Yq_NHTO",
        "outputId": "00208042-c823-4f61-9d03-cd672eb43a17",
        "colab": {
          "base_uri": "https://localhost:8080/",
          "height": 51
        }
      },
      "source": [
        "a2d=[[3,2,1],\n",
        "     [6,4,8],\n",
        "     [7,4,2]]\n",
        "n=3\n",
        "print(a2d)\n",
        "total=0\n",
        "print(\"nivel 1\")\n",
        "for ren in range(n):\n",
        "  suma_renglon=0\n",
        "  print(\"nivel 2\")\n",
        "  for col in range(n):\n",
        "    suma_renglon += a2d[ren][col]\n",
        "    total+=a2d[ren][col]\n",
        "    print(\"nivel 3\")\n",
        "print(total)"
      ],
      "execution_count": 1,
      "outputs": [
        {
          "output_type": "stream",
          "text": [
            "[[3, 2, 1], [6, 4, 8], [7, 4, 2]]\n",
            "37\n"
          ],
          "name": "stdout"
        }
      ]
    }
  ]
}