{
  "nbformat": 4,
  "nbformat_minor": 0,
  "metadata": {
    "colab": {
      "name": "07Octubre.ipynb",
      "provenance": [],
      "authorship_tag": "ABX9TyP+xpTmzii2QFIsAs2tVoks",
      "include_colab_link": true
    },
    "kernelspec": {
      "name": "python3",
      "display_name": "Python 3"
    }
  },
  "cells": [
    {
      "cell_type": "markdown",
      "metadata": {
        "id": "view-in-github",
        "colab_type": "text"
      },
      "source": [
        "<a href=\"https://colab.research.google.com/github/dianafvx17/daa_2021_1/blob/master/07Octubre.ipynb\" target=\"_parent\"><img src=\"https://colab.research.google.com/assets/colab-badge.svg\" alt=\"Open In Colab\"/></a>"
      ]
    },
    {
      "cell_type": "markdown",
      "metadata": {
        "id": "KkE7nL56ShLg"
      },
      "source": [
        "#Busqueda lineal\n",
        "dado un conjunto de datos no ordenados, la busqueda lineal consiste en recorrer el conjunto de datos desde el inicio al final, moviendose de uno en uno hasta encontrar el elemento o llegar al final del conjunto\n",
        "\n",
        "datos = [ 4,18,47,2,34,14,78,12,48,21,31,19,1,3,5]\n",
        "\n",
        "#Busqueda Binaria\n",
        "funciona sobre un conjunto de datos lineal ordenado, consiste en dividir el conjunto en mitades y buscar en esa mitad si el elemento buscado, no esta en la mitad, preguntas si el elmento esta a la derecha o a la izquierda. haces la lista igual a la mitad correstondientes y repites el proceso.\n",
        "L = [ 4,18,47,2,34,14,78,12,48,21,31,19,1,3,5]\n",
        "derecha = longitud(L)-1\n",
        "izquierda = 0\n",
        "medio = apuntara a la mitad del segmento de busqueda\n",
        "\n",
        "buscado: es el valor a buscar\n",
        "1. hacer derecha = longitud(L)-1\n",
        "2. hacer izquierda=0\n",
        "3. si izquierda > derecha significa que hay un error en los datos\n",
        "4. calcular medio = int((izquierda + derecha)/2)\n",
        "5. mientras L[medio] != buscado hacer \n",
        "6.   - preguntar L[medio] > buscado\n",
        "         - hacer derecho = medio\n",
        "     - de lo contrario \n",
        "         - hacer izquierda = medio\n",
        "     - preguntar (derecho- izquierdo) % 2\n",
        "         - medio = (izquierdo+((derecho- izquierdo)/2))+1\n",
        "     - de lo contrario\n",
        "         - medio=izquierdo + ((derecho-izquierdo)/2)\n",
        "7. return medio"
      ]
    },
    {
      "cell_type": "code",
      "metadata": {
        "id": "BBdT5L-aSfVp",
        "outputId": "afde981d-240d-4b25-a434-ca202ec6363b",
        "colab": {
          "base_uri": "https://localhost:8080/"
        }
      },
      "source": [
        "\"\"\"busqueda lineal: regresa la posicion del elemento buscando si se encuentra dentro de la lista.\n",
        "regresa-1 si el elemnto buscado no existe dentro de la lista\"\"\"\n",
        "def busq_lineal(L, buscado):\n",
        "  indice=-1\n",
        "  for idx in range(len(L)):\n",
        "    contador += 1\n",
        "    if L[idx]==buscado:\n",
        "      indice=idx\n",
        "      break\n",
        "  print(f\"numero de comparaciones realizadas={contador}\")\n",
        "  return indice\n",
        "\"\"\"Busqueda lineal\"\"\"\n",
        "def main():\n",
        "  datos = [ 4,18,47,2,34,14,78,12,48,21,31,19,1,3,5]\n",
        "  dato = int(input(\"¿qué valor deseas buscar? \"))\n",
        "  resultado = busq_lineal(datos,dato)\n",
        "  print(\"resultado: \", resultado)\n",
        "  print(\"busqueda lineal en una lista ordenada\")\n",
        "  datos.sort()\n",
        "  print(datos)\n",
        "  resultado=busq_lineal(datos, dato)\n",
        "  print(resultado)\n",
        "main()"
      ],
      "execution_count": 1,
      "outputs": [
        {
          "output_type": "stream",
          "text": [
            "que valor deseas buscar?5\n",
            "resultado:  14\n"
          ],
          "name": "stdout"
        }
      ]
    },
    {
      "cell_type": "code",
      "metadata": {
        "id": "xhkuWPTMe1Fz"
      },
      "source": [
        "\"\"\"Busqueda Binaria\"\"\"\n",
        "def busq_binaria(L, buscado):\n",
        "  izq=0\n",
        "  der = len(L)-1\n",
        "  med=int((izq + der )/2)\n",
        "  if len(L) % 2 == 0:\n",
        "    med = (der //2)+1\n",
        "  else:\n",
        "    med = der //2\n",
        "  \n",
        "  while (L[med] != buscado):\n",
        "    if L([med]>buscado):\n",
        "      der = med\n",
        "    else:\n",
        "      izq = med \n",
        "    if (der - izq) %2 == 0:\n",
        "      med = (izq + (der - izq)//2))+1\n",
        "    else:\n",
        "      med= izq + ((der-izq)//2)\n",
        "  return med\n",
        "def main():\n",
        "  datos = [ 4,18,47,2,34,14,78,12,48,21,31,19,1,3,5]\n",
        "  dato = int(input(\"¿qué valor deseas buscar? \"))\n",
        "  print(\"busqueda binaria\")\n",
        "  posicion= busq_binaria(datos, dato)\n",
        "  print(f\"el elemento {dato} esta en la posicion {posicision} de la lista\")\n",
        "\n",
        "main()"
      ],
      "execution_count": null,
      "outputs": []
    },
    {
      "cell_type": "code",
      "metadata": {
        "id": "7-q3Eer9jZfc"
      },
      "source": [
        ""
      ],
      "execution_count": null,
      "outputs": []
    }
  ]
}