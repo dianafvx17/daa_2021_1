{
  "nbformat": 4,
  "nbformat_minor": 0,
  "metadata": {
    "colab": {
      "name": "TAREA8.ipynb",
      "provenance": [],
      "collapsed_sections": [],
      "authorship_tag": "ABX9TyN950j1DqjdyFgsi/k4Rrk8",
      "include_colab_link": true
    },
    "kernelspec": {
      "name": "python3",
      "display_name": "Python 3"
    }
  },
  "cells": [
    {
      "cell_type": "markdown",
      "metadata": {
        "id": "view-in-github",
        "colab_type": "text"
      },
      "source": [
        "<a href=\"https://colab.research.google.com/github/dianafvx17/daa_2021_1/blob/master/TAREA8.ipynb\" target=\"_parent\"><img src=\"https://colab.research.google.com/assets/colab-badge.svg\" alt=\"Open In Colab\"/></a>"
      ]
    },
    {
      "cell_type": "code",
      "metadata": {
        "colab": {
          "base_uri": "https://localhost:8080/"
        },
        "id": "VyEA3WCLNgsQ",
        "outputId": "3e2655f1-ffcd-4fa5-f3cf-afd59c0d4ee0"
      },
      "source": [
        "alumno1={'id':2, 'nombre':\"Juan\" , 'carrera':\"ICO\", 'promedio':7.67}\r\n",
        "alumno2={'id':4, 'nombre':\"Rocio\" , 'carrera':\"ICI\", 'promedio':8.67}\r\n",
        "alumno3={'id':5, 'nombre':\"Diego\" , 'carrera':\"DER\", 'promedio':8.98}\r\n",
        "alumno4={'id':7, 'nombre':\"May\" , 'carrera':\"ICI\", 'promedio':9.87}\r\n",
        "alumno5={'id':9, 'nombre':\"Rob\" , 'carrera':\"IME\", 'promedio':10.00}\r\n",
        "alumno6={'id':10, 'nombre':\"Santi\" , 'carrera':\"ICO\", 'promedio':5.37}\r\n",
        "alumno7={'id':14, 'nombre':\"Moy\" , 'carrera':\"IME\", 'promedio':6.85}\r\n",
        "alumno8={'id':16, 'nombre':\"Diana\" , 'carrera':\"DER\", 'promedio':9.99}\r\n",
        "alumno9={'id':19, 'nombre':\"Zoila\" , 'carrera':\"ICO\", 'promedio':8.22}\r\n",
        "alumno10={'id':22, 'nombre':\"Armando\" , 'carrera':\"ICO\", 'promedio':7.32}\r\n",
        "\r\n",
        "arreglo = []\r\n",
        "arreglo.append(alumno1)\r\n",
        "arreglo.append(alumno2)\r\n",
        "arreglo.append(alumno3)\r\n",
        "arreglo.append(alumno4)\r\n",
        "arreglo.append(alumno5)\r\n",
        "arreglo.append(alumno6)\r\n",
        "arreglo.append(alumno7)\r\n",
        "arreglo.append(alumno8)\r\n",
        "arreglo.append(alumno9)\r\n",
        "arreglo.append(alumno10)\r\n",
        "busqueda= int(input('Ingrese el id a buscar: '))\r\n",
        "media=len(arreglo)//2\r\n",
        "if busqueda == alumno5['id']:\r\n",
        "  print(arreglo[media-1])\r\n",
        "if busqueda<alumno10['id']:\r\n",
        "  derecha= media -2\r\n",
        "  print(arreglo[media-1])\r\n",
        "else:\r\n",
        "  izquierda= media +1\r\n",
        "  print(arreglo[media+1])"
      ],
      "execution_count": 125,
      "outputs": [
        {
          "output_type": "stream",
          "text": [
            "Ingrese el id a buscar: 9\n",
            "{'id': 9, 'nombre': 'Rob', 'carrera': 'IME', 'promedio': 10.0}\n"
          ],
          "name": "stdout"
        }
      ]
    }
  ]
}