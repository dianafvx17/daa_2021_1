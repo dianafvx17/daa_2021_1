{
  "nbformat": 4,
  "nbformat_minor": 0,
  "metadata": {
    "colab": {
      "name": "Te damos la bienvenida a Colaboratory",
      "provenance": [],
      "collapsed_sections": [],
      "include_colab_link": true
    },
    "kernelspec": {
      "display_name": "Python 3",
      "name": "python3"
    }
  },
  "cells": [
    {
      "cell_type": "markdown",
      "metadata": {
        "id": "view-in-github",
        "colab_type": "text"
      },
      "source": [
        "<a href=\"https://colab.research.google.com/github/dianafvx17/daa_2021_1/blob/master/28septimebre.ipynb\" target=\"_parent\"><img src=\"https://colab.research.google.com/assets/colab-badge.svg\" alt=\"Open In Colab\"/></a>"
      ]
    },
    {
      "cell_type": "markdown",
      "metadata": {
        "id": "J1pP_qMcECpG"
      },
      "source": [
        "# Sección 1\n",
        " # phyton "
      ]
    },
    {
      "cell_type": "markdown",
      "metadata": {
        "id": "_QWJZLK6KkUq"
      },
      "source": [
        ""
      ]
    },
    {
      "cell_type": "markdown",
      "metadata": {
        "id": "bE92-DEuGcYP"
      },
      "source": [
        "``edad = 10 print(edad)``"
      ]
    },
    {
      "cell_type": "markdown",
      "metadata": {
        "id": "A83oofZnGWyS"
      },
      "source": [
        "# codigo ejemplo \n"
      ]
    },
    {
      "cell_type": "code",
      "metadata": {
        "id": "M9ZmIlpiEsX1",
        "outputId": "8e119f65-a170-45d8-9f5a-540846bb8d99",
        "colab": {
          "base_uri": "https://localhost:8080/",
          "height": 34
        }
      },
      "source": [
        "frutas =[]\n",
        "frutas.append('manzana')\n",
        "frutas.append('piña')\n",
        "frutas.append('kiwi')\n",
        "print(frutas)"
      ],
      "execution_count": 2,
      "outputs": [
        {
          "output_type": "stream",
          "text": [
            "['manzana', 'piña', 'kiwi']\n"
          ],
          "name": "stdout"
        }
      ]
    },
    {
      "cell_type": "code",
      "metadata": {
        "id": "2qba3GduHsBu"
      },
      "source": [
        "archivo= open('prueba_daa.txt','wt')\n",
        "archivo.write(\"Hola mundo\")\n",
        "archivo.close()"
      ],
      "execution_count": 3,
      "outputs": []
    }
  ]
}