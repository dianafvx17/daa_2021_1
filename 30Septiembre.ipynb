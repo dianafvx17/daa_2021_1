{
  "nbformat": 4,
  "nbformat_minor": 0,
  "metadata": {
    "colab": {
      "name": "30Septiembre.ipynb",
      "provenance": [],
      "authorship_tag": "ABX9TyPlGV2MSWPOdBw3nrPm1V4l",
      "include_colab_link": true
    },
    "kernelspec": {
      "name": "python3",
      "display_name": "Python 3"
    }
  },
  "cells": [
    {
      "cell_type": "markdown",
      "metadata": {
        "id": "view-in-github",
        "colab_type": "text"
      },
      "source": [
        "<a href=\"https://colab.research.google.com/github/dianafvx17/daa_2021_1/blob/master/30Septiembre.ipynb\" target=\"_parent\"><img src=\"https://colab.research.google.com/assets/colab-badge.svg\" alt=\"Open In Colab\"/></a>"
      ]
    },
    {
      "cell_type": "markdown",
      "metadata": {
        "id": "7Mdvs6_bQH5o"
      },
      "source": [
        "#Palindromos \n",
        "palabras que se leen de la misma manera, al derecho y al reves \n",
        "\n",
        "Problema:\n",
        "Se desea encontrar todos los palindromos que existen en la franja horaria, desde 00:00 hasta 23:59. Se deben mostrar todos los palindromos posibles, se debe mostrar el conteo total de estos."
      ]
    },
    {
      "cell_type": "code",
      "metadata": {
        "id": "REcZBfMMP-g-",
        "outputId": "e1d6d300-2baf-4ed9-dc57-66ca96dd233c",
        "colab": {
          "base_uri": "https://localhost:8080/",
          "height": 520
        }
      },
      "source": [
        "for i in range(00,23,1):\n",
        "  for j in range(00,59,1):\n",
        "    if (i)==(j):\n",
        "      print (i,':', j)\n",
        "return\n"
      ],
      "execution_count": 54,
      "outputs": [
        {
          "output_type": "stream",
          "text": [
            "0 : 0\n",
            "1 : 1\n",
            "2 : 2\n",
            "3 : 3\n",
            "4 : 4\n",
            "5 : 5\n",
            "6 : 6\n",
            "7 : 7\n",
            "8 : 8\n",
            "9 : 9\n",
            "10 : 10\n",
            "11 : 11\n",
            "12 : 12\n",
            "13 : 13\n",
            "14 : 14\n",
            "15 : 15\n",
            "16 : 16\n",
            "17 : 17\n",
            "18 : 18\n",
            "19 : 19\n",
            "20 : 20\n",
            "21 : 21\n",
            "22 : 22\n"
          ],
          "name": "stdout"
        },
        {
          "output_type": "error",
          "ename": "SyntaxError",
          "evalue": "ignored",
          "traceback": [
            "\u001b[0;36m  File \u001b[0;32m\"<ipython-input-54-e3a3560b326c>\"\u001b[0;36m, line \u001b[0;32m5\u001b[0m\n\u001b[0;31m    return\u001b[0m\n\u001b[0m          ^\u001b[0m\n\u001b[0;31mSyntaxError\u001b[0m\u001b[0;31m:\u001b[0m 'return' outside function\n"
          ]
        }
      ]
    }
  ]
}