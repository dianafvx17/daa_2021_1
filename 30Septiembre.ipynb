{
  "nbformat": 4,
  "nbformat_minor": 0,
  "metadata": {
    "colab": {
      "name": "Untitled",
      "provenance": [],
      "collapsed_sections": [],
      "authorship_tag": "ABX9TyOA7z/Quqe+4aOFWHuYLFPy",
      "include_colab_link": true
    },
    "kernelspec": {
      "name": "python3",
      "display_name": "Python 3"
    }
  },
  "cells": [
    {
      "cell_type": "markdown",
      "metadata": {
        "id": "view-in-github",
        "colab_type": "text"
      },
      "source": [
        "<a href=\"https://colab.research.google.com/github/dianafvx17/daa_2021_1/blob/master/30Septiembre.ipynb\" target=\"_parent\"><img src=\"https://colab.research.google.com/assets/colab-badge.svg\" alt=\"Open In Colab\"/></a>"
      ]
    },
    {
      "cell_type": "markdown",
      "metadata": {
        "id": "7Mdvs6_bQH5o"
      },
      "source": [
        "#Palindromos \n",
        "palabras que se leen de la misma manera, al derecho y al reves \n",
        "\n",
        "Problema:\n",
        "Se desea encontrar todos los palindromos que existen en la franja horaria, desde 00:00 hasta 23:59. Se deben mostrar todos los palindromos posibles, se debe mostrar el conteo total de estos."
      ]
    },
    {
      "cell_type": "code",
      "metadata": {
        "id": "REcZBfMMP-g-",
        "outputId": "eff8438b-38c2-4aad-ac2d-e707fe5551d4",
        "colab": {
          "base_uri": "https://localhost:8080/",
          "height": 221
        }
      },
      "source": [
        "for i in range(0,3,1):\n",
        "  for j in range(0,4,1):\n",
        "    for k in range(0,6,1):\n",
        "      for l in range(0,10,1):\n",
        "        if (i,j) == (k,l): \n",
        "          print(i,j,':',l,k)"
      ],
      "execution_count": 73,
      "outputs": [
        {
          "output_type": "stream",
          "text": [
            "0 0 : 0 0\n",
            "0 1 : 1 0\n",
            "0 2 : 2 0\n",
            "0 3 : 3 0\n",
            "1 0 : 0 1\n",
            "1 1 : 1 1\n",
            "1 2 : 2 1\n",
            "1 3 : 3 1\n",
            "2 0 : 0 2\n",
            "2 1 : 1 2\n",
            "2 2 : 2 2\n",
            "2 3 : 3 2\n"
          ],
          "name": "stdout"
        }
      ]
    }
  ]
}