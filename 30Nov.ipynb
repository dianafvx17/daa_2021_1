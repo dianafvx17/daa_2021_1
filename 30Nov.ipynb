{
  "nbformat": 4,
  "nbformat_minor": 0,
  "metadata": {
    "colab": {
      "name": "30Nov.ipynb",
      "provenance": [],
      "authorship_tag": "ABX9TyNfsW0TT2FTLFIuzf81d1GL",
      "include_colab_link": true
    },
    "kernelspec": {
      "name": "python3",
      "display_name": "Python 3"
    }
  },
  "cells": [
    {
      "cell_type": "markdown",
      "metadata": {
        "id": "view-in-github",
        "colab_type": "text"
      },
      "source": [
        "<a href=\"https://colab.research.google.com/github/dianafvx17/daa_2021_1/blob/master/30Nov.ipynb\" target=\"_parent\"><img src=\"https://colab.research.google.com/assets/colab-badge.svg\" alt=\"Open In Colab\"/></a>"
      ]
    },
    {
      "cell_type": "markdown",
      "metadata": {
        "id": "DtI1KyBbvhy6"
      },
      "source": [
        "# Fuerza Bruta "
      ]
    },
    {
      "cell_type": "code",
      "metadata": {
        "colab": {
          "base_uri": "https://localhost:8080/"
        },
        "id": "ryWw5A0SpQAI",
        "outputId": "43e44ba8-38cc-4d28-f6f0-284a020692d1"
      },
      "source": [
        "A = \"AELASESLALSALSALSALSALSALASLSLSLSLSALALALALASALSALLSALAS\"\n",
        "P = \"LAS\"\n",
        "N=len(A)\n",
        "M=len(P)\n",
        "def fuerza_bruta(A,P):\n",
        "  for i in range(N-M+1):\n",
        "    for j in range(M):\n",
        "      if A[i+j]!=P[j]:\n",
        "        break\n",
        "      else:\n",
        "        pass\n",
        "    if j+1 == M and A[i+j]==P[j]:\n",
        "      print(\"encontrado en la posicion\", i)\n",
        "fuerza_bruta(A,P)"
      ],
      "execution_count": 1,
      "outputs": [
        {
          "output_type": "stream",
          "text": [
            "encontrado en la posicion 2\n",
            "encontrado en la posicion 24\n",
            "encontrado en la posicion 42\n",
            "encontrado en la posicion 53\n"
          ],
          "name": "stdout"
        }
      ]
    },
    {
      "cell_type": "markdown",
      "metadata": {
        "id": "a31ywYTyxBQA"
      },
      "source": [
        "i= de 0 hasta la ultima posicion. cambia la posicion en la que comienza a comparar \n",
        "j= de 0 hasta la longitud e la palabra a comparar, de 0 a 2 \n",
        "\n",
        "o=((N-M)*M)\n"
      ]
    }
  ]
}