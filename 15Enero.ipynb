{
  "nbformat": 4,
  "nbformat_minor": 0,
  "metadata": {
    "colab": {
      "name": "15Enero.ipynb",
      "provenance": [],
      "authorship_tag": "ABX9TyOujctKW3XLbEC1j+VIZOYD",
      "include_colab_link": true
    },
    "kernelspec": {
      "name": "python3",
      "display_name": "Python 3"
    }
  },
  "cells": [
    {
      "cell_type": "markdown",
      "metadata": {
        "id": "view-in-github",
        "colab_type": "text"
      },
      "source": [
        "<a href=\"https://colab.research.google.com/github/dianafvx17/daa_2021_1/blob/master/15Enero.ipynb\" target=\"_parent\"><img src=\"https://colab.research.google.com/assets/colab-badge.svg\" alt=\"Open In Colab\"/></a>"
      ]
    },
    {
      "cell_type": "code",
      "metadata": {
        "id": "ch_xgyRWXJAr"
      },
      "source": [
        "class NodoArbol:\r\n",
        "  def __init__(self, value, izq=None, der=None):\r\n",
        "    self.value=value\r\n",
        "    self.left=izq\r\n",
        "    self.right=der"
      ],
      "execution_count": 40,
      "outputs": []
    },
    {
      "cell_type": "code",
      "metadata": {
        "id": "qvefdLirXEnr"
      },
      "source": [
        "class Binario:\r\n",
        "  def __init__(self):\r\n",
        "    self.root=None\r\n",
        "  def insert(self,value):\r\n",
        "    if self.__root==None:\r\n",
        "      self.__root=NodoArbol(value,None,None)\r\n",
        "    else: \r\n",
        "      self.__insert_nodo__(self.__root,value)\r\n",
        "  def __insert_nodo__(self,non,value):\r\n",
        "    if nodo.value==value:\r\n",
        "      pass\r\n",
        "    elif value<nodo.value:\r\n",
        "      if nodo.left==None:\r\n",
        "        nodo.left=NodoArbol(value,None,None)\r\n",
        "      else:\r\n",
        "        self.__insert_nodo__(nodo.left,value)\r\n",
        "    else:\r\n",
        "      if nodo.right==None:\r\n",
        "        nodo.right=NodoArbol(value,None,None)\r\n",
        "      else:\r\n",
        "        self.__insert_nodo__(nodo.right,value)\r\n",
        "  def Hoja(self):\r\n",
        "    return  arbol.left.esvacio and arbol.right.esvacio\r\n",
        "\r\n",
        "  def Nivel (self):\r\n",
        "    left = 0\r\n",
        "    right = 0\r\n",
        "\r\n",
        "    if Hoja(self):\r\n",
        "        value = self.value\r\n",
        "        return 1 , value\r\n",
        "    else:\r\n",
        "        if not self.left.esvacio:\r\n",
        "            left,left.value = profundidad(self.left.value)\r\n",
        "        if not self.right.esvacio:\r\n",
        "            right,right.value = Nivel(self.right) \r\n",
        "\r\n",
        "        if (izq > der):\r\n",
        "            return izq+1,value.left\r\n",
        "        else:\r\n",
        "            return der+1, value.right\r\n",
        "  def __repr__(self):\r\n",
        "    if self.esvacio:\r\n",
        "      return \"\"\r\n",
        "    elif Hoja(self):\r\n",
        "      return \"{}\".format(self.value)\r\n",
        "    else:\r\n",
        "      return \"{} -> ({}, {})\".format(self.value, self.left, self.right)"
      ],
      "execution_count": 41,
      "outputs": []
    }
  ]
}