{
  "nbformat": 4,
  "nbformat_minor": 0,
  "metadata": {
    "colab": {
      "name": "19Octubre Tarea 4.ipynb",
      "provenance": [],
      "authorship_tag": "ABX9TyNlC7y1iHI0Lxk/785vEjOZ",
      "include_colab_link": true
    },
    "kernelspec": {
      "name": "python3",
      "display_name": "Python 3"
    }
  },
  "cells": [
    {
      "cell_type": "markdown",
      "metadata": {
        "id": "view-in-github",
        "colab_type": "text"
      },
      "source": [
        "<a href=\"https://colab.research.google.com/github/dianafvx17/daa_2021_1/blob/master/19Octubre_Tarea_4.ipynb\" target=\"_parent\"><img src=\"https://colab.research.google.com/assets/colab-badge.svg\" alt=\"Open In Colab\"/></a>"
      ]
    },
    {
      "cell_type": "code",
      "metadata": {
        "id": "te0KDOsyePKE",
        "outputId": "ef33d648-7788-4189-f508-3d389692ff4c",
        "colab": {
          "base_uri": "https://localhost:8080/",
          "height": 119
        }
      },
      "source": [
        "a2d=[[3,2,1],\n",
        "     [6,4,8],\n",
        "     [7,4,2]]\n",
        "n=15\n",
        "\n",
        "count=0\n",
        "i=n\n",
        "print(\"nivel 1\")\n",
        "while i>=1:\n",
        "  count +=1\n",
        "  i=i//2\n",
        "  print(\"nivel 2\")\n",
        "basura =3+2 \n",
        "print(\"numero de veces\",count)"
      ],
      "execution_count": 12,
      "outputs": [
        {
          "output_type": "stream",
          "text": [
            "nivel 1\n",
            "nivel 2\n",
            "nivel 2\n",
            "nivel 2\n",
            "nivel 2\n",
            "numero de veces 4\n"
          ],
          "name": "stdout"
        }
      ]
    }
  ]
}