{
  "nbformat": 4,
  "nbformat_minor": 0,
  "metadata": {
    "colab": {
      "name": "Tarea7.ipynb",
      "provenance": [],
      "include_colab_link": true
    },
    "kernelspec": {
      "name": "python3",
      "display_name": "Python 3"
    }
  },
  "cells": [
    {
      "cell_type": "markdown",
      "metadata": {
        "id": "view-in-github",
        "colab_type": "text"
      },
      "source": [
        "<a href=\"https://colab.research.google.com/github/dianafvx17/daa_2021_1/blob/master/Tarea7.ipynb\" target=\"_parent\"><img src=\"https://colab.research.google.com/assets/colab-badge.svg\" alt=\"Open In Colab\"/></a>"
      ]
    },
    {
      "cell_type": "markdown",
      "metadata": {
        "id": "zHVF6eWx1GbV"
      },
      "source": [
        "#Tarea 7\n",
        "Realizar:\n",
        "1. Crear una lista de enteros en Python y realizar la suma con recursividad, el caso base es cuando la lista este vacía.\n"
      ]
    },
    {
      "cell_type": "code",
      "metadata": {
        "id": "XrOyVr8J0_pv",
        "outputId": "99578bb3-35f3-4198-c1ca-d13e8863e4e9",
        "colab": {
          "base_uri": "https://localhost:8080/"
        }
      },
      "source": [
        "lista=[6,8,1,3,4,2,9,7]\n",
        "def suma(lista):\n",
        "  if len(lista) == 1:   \n",
        "    return lista[0]\n",
        "  else:\n",
        "    return lista[0] + suma(lista[1:]) \n",
        "print(suma(lista))"
      ],
      "execution_count": 1,
      "outputs": [
        {
          "output_type": "stream",
          "text": [
            "40\n"
          ],
          "name": "stdout"
        }
      ]
    },
    {
      "cell_type": "markdown",
      "metadata": {
        "id": "xFnVUgvh2_Vw"
      },
      "source": [
        "2. Hacer un contador regresivo con recursión.\n"
      ]
    },
    {
      "cell_type": "code",
      "metadata": {
        "id": "dEXxvMUZ3BWW",
        "outputId": "88c6b1ea-6fc5-43de-c04e-326d2bae1f1e",
        "colab": {
          "base_uri": "https://localhost:8080/"
        }
      },
      "source": [
        "entero=9\n",
        "def contador(entero):\n",
        "     print(entero)\n",
        "     if entero == 1:\n",
        "        return\n",
        "     else:\n",
        "        return contador(entero-1)  \n",
        "contador(entero)"
      ],
      "execution_count": 2,
      "outputs": [
        {
          "output_type": "stream",
          "text": [
            "9\n",
            "8\n",
            "7\n",
            "6\n",
            "5\n",
            "4\n",
            "3\n",
            "2\n",
            "1\n"
          ],
          "name": "stdout"
        }
      ]
    },
    {
      "cell_type": "markdown",
      "metadata": {
        "id": "FW2ibnMR3Bq8"
      },
      "source": [
        "3. Sacar de un ADT pila el valor en la posición media."
      ]
    },
    {
      "cell_type": "code",
      "metadata": {
        "colab": {
          "base_uri": "https://localhost:8080/"
        },
        "id": "cNIo3LIsFbRO",
        "outputId": "aa1053ed-7569-4898-e341-8716cf58dd7a"
      },
      "source": [
        "def pop(lista):\n",
        "  lista=[6,8,1,3,4,2,9,7]\n",
        "  lista.pop(len(lista)// 2)\n",
        "print(lista)"
      ],
      "execution_count": null,
      "outputs": [
        {
          "output_type": "stream",
          "text": [
            "[6, 8, 1, 3, 2, 9, 7]\n"
          ],
          "name": "stdout"
        }
      ]
    }
  ]
}