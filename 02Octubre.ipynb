{
  "nbformat": 4,
  "nbformat_minor": 0,
  "metadata": {
    "colab": {
      "name": "02Octubre.ipynb",
      "provenance": [],
      "authorship_tag": "ABX9TyPPvfNbCRCj2vYYTzrbE7pX",
      "include_colab_link": true
    },
    "kernelspec": {
      "name": "python3",
      "display_name": "Python 3"
    }
  },
  "cells": [
    {
      "cell_type": "markdown",
      "metadata": {
        "id": "view-in-github",
        "colab_type": "text"
      },
      "source": [
        "<a href=\"https://colab.research.google.com/github/dianafvx17/daa_2021_1/blob/master/02Octubre.ipynb\" target=\"_parent\"><img src=\"https://colab.research.google.com/assets/colab-badge.svg\" alt=\"Open In Colab\"/></a>"
      ]
    },
    {
      "cell_type": "markdown",
      "metadata": {
        "id": "FSdFApkjkRZL"
      },
      "source": [
        "## Meteorología en México\n",
        "En Sistema meteorológico nacional lleva el registro de la lluvias desde el año 1985 y lo pone a disposición de la población por medio de la pagina datos.gob.mx.\n",
        "\n",
        "En la siguiente liga se encuentran 2  archivos separados por comas CSV correspondientes a los registros de lluvias\n",
        "mensuales y anuales de los años 2017 y 2018. En los columnas se encuentran 13,  correspondientes al promedio mensual y el promedio anual.\n",
        "En los renglones se encuentran 33, correspondientes a cada cada uno de los 32 estados y a nivel nacional.\n",
        "\n",
        "https://drive.google.com/file/d/1lamkxgq2AsXRu81Y4JTNXLVld4og7nxt/view?usp=sharing\n",
        "\n",
        "\n",
        "## Planteamiento del problema\n",
        "Diseñar un algoritmo y programarlo para que:\n",
        "1. Solicite por teclado el año, el estado y el mes, en base a esa información:\n",
        "- muestre en pantalla el promedio de ese mes en ese estado en el año seleccionado.\n",
        "- muestre en pantalla el promedio anual del  estado seleccionado.\n",
        "- muestre la suma de los 12 meses de ese estado en el año seleccionado.\n",
        "\n",
        "2. Busque el mes que mas llovió en todos los estados durante esos dos años. Imprimir año, estado y mes.\n",
        "3. Busque el mes que menos llovió en los dos. Imprimir año, estado y mes."
      ]
    },
    {
      "cell_type": "code",
      "metadata": {
        "id": "dmY6nMash_Sw"
      },
      "source": [
        "'''2017=[\n",
        "  AGUASCALIENTES=(0.4 ,2.1 ,6.7 ,0.4 ,4.2 ,43.5 ,169.3 ,143.8 ,159.5 ,21.8 ,0.1 ,27.6 ,579.4 ),\n",
        "  BAJA CALIFORNIA=(53.6 ,44.9 ,1.4 ,0.0 ,7.9 ,0.2 ,2.9 ,7.1 ,9.6 ,0.0 ,1.4 ,2.8 ,131.7 ),\n",
        "  BAJA CALIFORNIA SUR=(8.4 ,18.4 ,0.5 ,0.1 ,1.6 ,1.9 ,12.1 ,68.3 ,59.0 ,0.6 ,0.2 ,3.7 ,174.7 ),\n",
        "  CAMPECHE=(16.1 ,6.9 ,9.1 ,65.1 ,49.7 ,363.6 ,169.2 ,202.8 ,229.8 ,221.7 ,33.4 ,40.1 ,1,407.3),\n",
        "  COAHUILA=(2.6 ,11.1 ,15.1 ,23.0 ,40.6 ,22.6 ,37.8 ,45.1 ,108.3 ,15.2 ,1.9 ,35.6 ,358.5 ),\n",
        "  COLIMA=(0.0 ,2.8 ,1.2 ,0.0 ,1.7 ,197.4 ,287.4 ,560.3 ,528.0 ,142.7 ,0.1 ,7.3 ,1,728.8),\n",
        "  CHIAPAS=(36.8 ,8.1 ,23.1 ,64.0 ,262.3 ,409.4 ,254.3 ,249.2 ,401.7 ,228.8 ,37.9 ,18.4 ,1,994.0 ),\n",
        "  CHIHUAHUA=(12.3 ,8.1 ,6.1 ,3.4 ,10.4 ,20.6 ,153.3 ,122.1 ,58.8 ,14.4 ,1.7 ,42.7 ,453.8 ),\n",
        "  DISTRITO FEDERAL=(0.0 ,0.0 ,18.1 ,12.9 ,48.9 ,86.2 ,101.7 ,101.3 ,86.8 ,31.4 ,0.6 ,0.0 ,488.0 ),\n",
        "  DURANGO=(1.3 ,7.8 ,13.3 ,1.4 ,4.7 ,12.5 ,121.7 ,139.3 ,97.3 ,34.1 ,0.0 ,21.2 ,454.6 ),\n",
        "  GUANAJUATO=(0.2 ,1.5 ,14.2 ,6.0 ,17.2 ,108.3 ,173.7 ,131.4 ,143.7 ,14.6 ,0.3 ,0.4 ,611.5), \n",
        "  GUERRERO=(0.2 ,0.2 ,2.1 ,3.2 ,90.2 ,223.9 ,162.6 ,230.4 ,369.4 ,71.7 ,6.7 ,0.4 ,1,161.1) ,\n",
        "  HIDALGO=(3.1 ,5.0 ,20.7 ,16.5 ,51.2 ,69.2 ,95.1 ,88.9 ,182.1 ,109.6 ,4.9 ,6.9 ,653.2 ),\n",
        "  JALISCO=(0.3 ,2.9 ,6.5 ,0.1 ,6.8 ,101.8 ,233.3 ,266.8 ,247.4 ,59.4 ,0.9 ,19.8 ,946.1 ),\n",
        "  ESTADO DE MX=(0.1 ,1.1 ,17.0 ,14.3 ,86.6 ,119.7 ,174.5 ,209.5 ,186.3 ,53.0 ,3.3 ,0.1 ,865.4) ,\n",
        "  MICHOACN=(0.1 ,1.0 ,14.6 ,1.8 ,29.5 ,116.1 ,159.4 ,228.4 ,190.9 ,50.2 ,0.4 ,0.3 ,792.8 ),\n",
        "  MORELOS=(0.0 ,0.1 ,14.7 ,13.5 ,174.9 ,386.0 ,320.4 ,517.2 ,441.1 ,81.7 ,0.0 ,0.0 ,1,949.5 ),\n",
        "  NAYARIT=(0.5 ,11.0 ,1.5 ,0.1 ,1.1 ,62.6 ,279.1 ,346.5 ,392.7 ,102.4 ,0.3 ,30.6 ,1,228.3) ,\n",
        "  NUEVO LEN=(10.2 ,7.4 ,50.6 ,45.0 ,60.7 ,45.6 ,31.0 ,40.6 ,172.1 ,64.9 ,7.8 ,34.2 ,570.0) ,\n",
        "  OAXACA=(6.1 ,5.7 ,16.4 ,28.0 ,156.8 ,355.6 ,183.0 ,207.0 ,320.0 ,141.8 ,13.3 ,7.0 ,1,440.8 ),\n",
        "  PUEBLA=(4.4 ,8.0 ,32.3 ,37.4 ,130.5 ,217.0 ,204.3 ,311.3 ,322.5 ,114.8 ,12.0 ,7.9 ,1,402.3) ,\n",
        "  QUERTARO=(0.7 ,2.0 ,20.9 ,17.7 ,29.6 ,83.2 ,107.9 ,92.2 ,168.0 ,67.4 ,1.3 ,1.8 ,592.7 ),\n",
        "  QUINTANA ROO=(30.5 ,9.5 ,25.6 ,76.5 ,64.1 ,241.0 ,111.0 ,205.1 ,240.0 ,255.2 ,94.0 ,54.3 ,1,406.8 ),\n",
        "  SAN LUIS POTOS=(1.7 ,3.6 ,28.1 ,25.2 ,40.9 ,62.5 ,118.1 ,96.3 ,145.0 ,85.8 ,1.4 ,9.1 ,617.7) ,\n",
        "  SINALOA=(3.8 ,30.2 ,3.6 ,0.5 ,0.7 ,12.5 ,169.5 ,248.3 ,162.9 ,49.0 ,0.1 ,17.6 ,698.8 ),\n",
        "  SONORA=(41.6 ,31.3 ,0.5 ,0.5 ,4.8 ,12.5 ,182.9 ,93.9 ,39.4 ,4.3 ,2.5 ,36.7 ,450.6 ),\n",
        "  TABASCO=(84.3 ,32.4 ,61.1 ,97.6 ,143.2 ,285.5 ,157.5 ,207.3 ,377.5 ,414.0 ,98.2 ,55.4 ,2,013.8), \n",
        "  TAMAULIPAS=(8.3 ,14.9 ,57.9 ,36.2 ,70.8 ,61.7 ,79.0 ,68.3 ,129.2 ,113.9 ,12.2 ,14.2 ,666.7 ),\n",
        "  TLAXCALA=(0.4 ,0.4 ,19.4 ,21.2 ,79.9 ,98.5 ,146.6 ,167.4 ,123.6 ,30.3 ,2.4 ,0.2 ,690.3 ),\n",
        "  VERACRUZ=(36.9 ,32.6 ,65.4 ,35.3 ,110.0 ,181.7 ,245.1 ,199.7 ,429.0 ,314.9 ,43.3 ,37.1 ,1,731.0 ),\n",
        "  YUCATN=(19.5 ,2.1 ,7.5 ,51.7 ,48.4 ,229.9 ,141.7 ,160.3 ,228.1 ,154.8 ,37.9 ,38.7 ,1,120.5) ,\n",
        "  ZACATECAS=(0.4 ,1.3 ,18.8 ,2.6 ,10.7 ,30.7 ,134.1 ,113.5 ,111.3 ,16.3 ,0.3 ,27.2 ,467.2 ),\n",
        "  NACIONAL=(14.6 ,12.7 ,16.6 ,18.5 ,48.1 ,102.7 ,140.9 ,145.9 ,169.8 ,77.0 ,10.7 ,24.4 ,781.6 )]'''"
      ],
      "execution_count": null,
      "outputs": []
    },
    {
      "cell_type": "code",
      "metadata": {
        "id": "L2sOfJWYsBYd"
      },
      "source": [
        "año=int(input('ingrese el año: ' ))\n",
        "f=2018\n",
        "g=2017\n",
        "if año == f :\n",
        "  f = open ('/content/sample_data/2018Precip.txt','r')\n",
        "  mensaje = f.read()\n",
        "   \n",
        "elif año == g :\n",
        "  g = open ('/content/sample_data/2017Precip.txt','r')\n",
        "  mensaje = g.read()\n",
        "mes=int(input('ingrese el numero de mes: '))\n",
        "def mes(camino):\n",
        "  precip=open(camino)\n",
        "  meses=[]\n",
        "  for l in precip:\n",
        "    campos=l.split(',')\n",
        "    m=mes()\n",
        "    m.enero=campos[1]\n",
        "    m.febrero=campos[]\n",
        "    m.marzo=campos[3]\n",
        "    m.abril=campos[4]\n",
        "    m.mayo=campos[5]\n",
        "    m.junio=campos[6]\n",
        "    m.julio=campos[7]\n",
        "    m.agosto=campos[8]\n",
        "    m.septiembre=campos[9]\n",
        "    m.octubre=campos[10]\n",
        "    m.noviembre=campos[11]\n",
        "    m.diciembre=campos[12]\n",
        "  for m in meses:\n",
        "    print(m)\n",
        "    "
      ],
      "execution_count": null,
      "outputs": []
    }
  ]
}